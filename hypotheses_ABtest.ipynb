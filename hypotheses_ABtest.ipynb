{
 "cells": [
  {
   "cell_type": "markdown",
   "metadata": {},
   "source": [
    "# Проект: Принятие решений в бизнесе"
   ]
  },
  {
   "cell_type": "markdown",
   "metadata": {},
   "source": [
    "В данной работе мы выполняем роль аналитика крупного интернет-магазина. Вместе с отделом маркетинга мы подготовили список гипотез для увеличения выручки.\n",
    "\n",
    "Задачей проекта является приоритизация гипотез, запуск A/B-теста и анализ его результатов."
   ]
  },
  {
   "cell_type": "markdown",
   "metadata": {},
   "source": [
    "## Приоритизация гипотез."
   ]
  },
  {
   "cell_type": "markdown",
   "metadata": {},
   "source": [
    "В рамках первой части работы был подготовлен список из 9 гипотез для увеличения выручки. Для приоритизации гипотез и дальнейшего выбора той, по который мы запустим A/B-тест, используем методы ICE и RICE."
   ]
  },
  {
   "cell_type": "markdown",
   "metadata": {},
   "source": [
    "Для начала откроем датафрейм со списком гипотез и оценками по каждому из параметров."
   ]
  },
  {
   "cell_type": "code",
   "execution_count": 1,
   "metadata": {},
   "outputs": [
    {
     "data": {
      "text/html": [
       "<div>\n",
       "<style scoped>\n",
       "    .dataframe tbody tr th:only-of-type {\n",
       "        vertical-align: middle;\n",
       "    }\n",
       "\n",
       "    .dataframe tbody tr th {\n",
       "        vertical-align: top;\n",
       "    }\n",
       "\n",
       "    .dataframe thead th {\n",
       "        text-align: right;\n",
       "    }\n",
       "</style>\n",
       "<table border=\"1\" class=\"dataframe\">\n",
       "  <thead>\n",
       "    <tr style=\"text-align: right;\">\n",
       "      <th></th>\n",
       "      <th>Hypothesis</th>\n",
       "      <th>Reach</th>\n",
       "      <th>Impact</th>\n",
       "      <th>Confidence</th>\n",
       "      <th>Efforts</th>\n",
       "    </tr>\n",
       "  </thead>\n",
       "  <tbody>\n",
       "    <tr>\n",
       "      <th>0</th>\n",
       "      <td>Добавить два новых канала привлечения трафика, что позволит привлекать на 30% больше пользователей</td>\n",
       "      <td>3</td>\n",
       "      <td>10</td>\n",
       "      <td>8</td>\n",
       "      <td>6</td>\n",
       "    </tr>\n",
       "    <tr>\n",
       "      <th>1</th>\n",
       "      <td>Запустить собственную службу доставки, что сократит срок доставки заказов</td>\n",
       "      <td>2</td>\n",
       "      <td>5</td>\n",
       "      <td>4</td>\n",
       "      <td>10</td>\n",
       "    </tr>\n",
       "    <tr>\n",
       "      <th>2</th>\n",
       "      <td>Добавить блоки рекомендаций товаров на сайт интернет магазина, чтобы повысить конверсию и средний чек заказа</td>\n",
       "      <td>8</td>\n",
       "      <td>3</td>\n",
       "      <td>7</td>\n",
       "      <td>3</td>\n",
       "    </tr>\n",
       "    <tr>\n",
       "      <th>3</th>\n",
       "      <td>Изменить структура категорий, что увеличит конверсию, т.к. пользователи быстрее найдут нужный товар</td>\n",
       "      <td>8</td>\n",
       "      <td>3</td>\n",
       "      <td>3</td>\n",
       "      <td>8</td>\n",
       "    </tr>\n",
       "    <tr>\n",
       "      <th>4</th>\n",
       "      <td>Изменить цвет фона главной страницы, чтобы увеличить вовлеченность пользователей</td>\n",
       "      <td>3</td>\n",
       "      <td>1</td>\n",
       "      <td>1</td>\n",
       "      <td>1</td>\n",
       "    </tr>\n",
       "    <tr>\n",
       "      <th>5</th>\n",
       "      <td>Добавить страницу отзывов клиентов о магазине, что позволит увеличить количество заказов</td>\n",
       "      <td>3</td>\n",
       "      <td>2</td>\n",
       "      <td>2</td>\n",
       "      <td>3</td>\n",
       "    </tr>\n",
       "    <tr>\n",
       "      <th>6</th>\n",
       "      <td>Показать на главной странице баннеры с актуальными акциями и распродажами, чтобы увеличить конверсию</td>\n",
       "      <td>5</td>\n",
       "      <td>3</td>\n",
       "      <td>8</td>\n",
       "      <td>3</td>\n",
       "    </tr>\n",
       "    <tr>\n",
       "      <th>7</th>\n",
       "      <td>Добавить форму подписки на все основные страницы, чтобы собрать базу клиентов для email-рассылок</td>\n",
       "      <td>10</td>\n",
       "      <td>7</td>\n",
       "      <td>8</td>\n",
       "      <td>5</td>\n",
       "    </tr>\n",
       "    <tr>\n",
       "      <th>8</th>\n",
       "      <td>Запустить акцию, дающую скидку на товар в день рождения</td>\n",
       "      <td>1</td>\n",
       "      <td>9</td>\n",
       "      <td>9</td>\n",
       "      <td>5</td>\n",
       "    </tr>\n",
       "  </tbody>\n",
       "</table>\n",
       "</div>"
      ],
      "text/plain": [
       "                                                                                                     Hypothesis  \\\n",
       "0  Добавить два новых канала привлечения трафика, что позволит привлекать на 30% больше пользователей             \n",
       "1  Запустить собственную службу доставки, что сократит срок доставки заказов                                      \n",
       "2  Добавить блоки рекомендаций товаров на сайт интернет магазина, чтобы повысить конверсию и средний чек заказа   \n",
       "3  Изменить структура категорий, что увеличит конверсию, т.к. пользователи быстрее найдут нужный товар            \n",
       "4  Изменить цвет фона главной страницы, чтобы увеличить вовлеченность пользователей                               \n",
       "5  Добавить страницу отзывов клиентов о магазине, что позволит увеличить количество заказов                       \n",
       "6  Показать на главной странице баннеры с актуальными акциями и распродажами, чтобы увеличить конверсию           \n",
       "7  Добавить форму подписки на все основные страницы, чтобы собрать базу клиентов для email-рассылок               \n",
       "8  Запустить акцию, дающую скидку на товар в день рождения                                                        \n",
       "\n",
       "   Reach  Impact  Confidence  Efforts  \n",
       "0  3      10      8           6        \n",
       "1  2      5       4           10       \n",
       "2  8      3       7           3        \n",
       "3  8      3       3           8        \n",
       "4  3      1       1           1        \n",
       "5  3      2       2           3        \n",
       "6  5      3       8           3        \n",
       "7  10     7       8           5        \n",
       "8  1      9       9           5        "
      ]
     },
     "execution_count": 1,
     "metadata": {},
     "output_type": "execute_result"
    }
   ],
   "source": [
    "import pandas as pd\n",
    "pd.set_option('display.max_colwidth', 0)\n",
    "data = pd.read_csv('https://code.s3.yandex.net/datasets/hypothesis.csv')\n",
    "data"
   ]
  },
  {
   "cell_type": "markdown",
   "metadata": {},
   "source": [
    "Добавим столбцы с показателями ICE и RICE для приоритизации."
   ]
  },
  {
   "cell_type": "code",
   "execution_count": 2,
   "metadata": {},
   "outputs": [
    {
     "data": {
      "text/html": [
       "<div>\n",
       "<style scoped>\n",
       "    .dataframe tbody tr th:only-of-type {\n",
       "        vertical-align: middle;\n",
       "    }\n",
       "\n",
       "    .dataframe tbody tr th {\n",
       "        vertical-align: top;\n",
       "    }\n",
       "\n",
       "    .dataframe thead th {\n",
       "        text-align: right;\n",
       "    }\n",
       "</style>\n",
       "<table border=\"1\" class=\"dataframe\">\n",
       "  <thead>\n",
       "    <tr style=\"text-align: right;\">\n",
       "      <th></th>\n",
       "      <th>Hypothesis</th>\n",
       "      <th>Reach</th>\n",
       "      <th>Impact</th>\n",
       "      <th>Confidence</th>\n",
       "      <th>Efforts</th>\n",
       "      <th>ICE</th>\n",
       "      <th>RICE</th>\n",
       "    </tr>\n",
       "  </thead>\n",
       "  <tbody>\n",
       "    <tr>\n",
       "      <th>0</th>\n",
       "      <td>Добавить два новых канала привлечения трафика, что позволит привлекать на 30% больше пользователей</td>\n",
       "      <td>3</td>\n",
       "      <td>10</td>\n",
       "      <td>8</td>\n",
       "      <td>6</td>\n",
       "      <td>13.33</td>\n",
       "      <td>39.99</td>\n",
       "    </tr>\n",
       "    <tr>\n",
       "      <th>1</th>\n",
       "      <td>Запустить собственную службу доставки, что сократит срок доставки заказов</td>\n",
       "      <td>2</td>\n",
       "      <td>5</td>\n",
       "      <td>4</td>\n",
       "      <td>10</td>\n",
       "      <td>2.00</td>\n",
       "      <td>4.00</td>\n",
       "    </tr>\n",
       "    <tr>\n",
       "      <th>2</th>\n",
       "      <td>Добавить блоки рекомендаций товаров на сайт интернет магазина, чтобы повысить конверсию и средний чек заказа</td>\n",
       "      <td>8</td>\n",
       "      <td>3</td>\n",
       "      <td>7</td>\n",
       "      <td>3</td>\n",
       "      <td>7.00</td>\n",
       "      <td>56.00</td>\n",
       "    </tr>\n",
       "    <tr>\n",
       "      <th>3</th>\n",
       "      <td>Изменить структура категорий, что увеличит конверсию, т.к. пользователи быстрее найдут нужный товар</td>\n",
       "      <td>8</td>\n",
       "      <td>3</td>\n",
       "      <td>3</td>\n",
       "      <td>8</td>\n",
       "      <td>1.12</td>\n",
       "      <td>8.96</td>\n",
       "    </tr>\n",
       "    <tr>\n",
       "      <th>4</th>\n",
       "      <td>Изменить цвет фона главной страницы, чтобы увеличить вовлеченность пользователей</td>\n",
       "      <td>3</td>\n",
       "      <td>1</td>\n",
       "      <td>1</td>\n",
       "      <td>1</td>\n",
       "      <td>1.00</td>\n",
       "      <td>3.00</td>\n",
       "    </tr>\n",
       "    <tr>\n",
       "      <th>5</th>\n",
       "      <td>Добавить страницу отзывов клиентов о магазине, что позволит увеличить количество заказов</td>\n",
       "      <td>3</td>\n",
       "      <td>2</td>\n",
       "      <td>2</td>\n",
       "      <td>3</td>\n",
       "      <td>1.33</td>\n",
       "      <td>3.99</td>\n",
       "    </tr>\n",
       "    <tr>\n",
       "      <th>6</th>\n",
       "      <td>Показать на главной странице баннеры с актуальными акциями и распродажами, чтобы увеличить конверсию</td>\n",
       "      <td>5</td>\n",
       "      <td>3</td>\n",
       "      <td>8</td>\n",
       "      <td>3</td>\n",
       "      <td>8.00</td>\n",
       "      <td>40.00</td>\n",
       "    </tr>\n",
       "    <tr>\n",
       "      <th>7</th>\n",
       "      <td>Добавить форму подписки на все основные страницы, чтобы собрать базу клиентов для email-рассылок</td>\n",
       "      <td>10</td>\n",
       "      <td>7</td>\n",
       "      <td>8</td>\n",
       "      <td>5</td>\n",
       "      <td>11.20</td>\n",
       "      <td>112.00</td>\n",
       "    </tr>\n",
       "    <tr>\n",
       "      <th>8</th>\n",
       "      <td>Запустить акцию, дающую скидку на товар в день рождения</td>\n",
       "      <td>1</td>\n",
       "      <td>9</td>\n",
       "      <td>9</td>\n",
       "      <td>5</td>\n",
       "      <td>16.20</td>\n",
       "      <td>16.20</td>\n",
       "    </tr>\n",
       "  </tbody>\n",
       "</table>\n",
       "</div>"
      ],
      "text/plain": [
       "                                                                                                     Hypothesis  \\\n",
       "0  Добавить два новых канала привлечения трафика, что позволит привлекать на 30% больше пользователей             \n",
       "1  Запустить собственную службу доставки, что сократит срок доставки заказов                                      \n",
       "2  Добавить блоки рекомендаций товаров на сайт интернет магазина, чтобы повысить конверсию и средний чек заказа   \n",
       "3  Изменить структура категорий, что увеличит конверсию, т.к. пользователи быстрее найдут нужный товар            \n",
       "4  Изменить цвет фона главной страницы, чтобы увеличить вовлеченность пользователей                               \n",
       "5  Добавить страницу отзывов клиентов о магазине, что позволит увеличить количество заказов                       \n",
       "6  Показать на главной странице баннеры с актуальными акциями и распродажами, чтобы увеличить конверсию           \n",
       "7  Добавить форму подписки на все основные страницы, чтобы собрать базу клиентов для email-рассылок               \n",
       "8  Запустить акцию, дающую скидку на товар в день рождения                                                        \n",
       "\n",
       "   Reach  Impact  Confidence  Efforts    ICE    RICE  \n",
       "0  3      10      8           6        13.33  39.99   \n",
       "1  2      5       4           10       2.00   4.00    \n",
       "2  8      3       7           3        7.00   56.00   \n",
       "3  8      3       3           8        1.12   8.96    \n",
       "4  3      1       1           1        1.00   3.00    \n",
       "5  3      2       2           3        1.33   3.99    \n",
       "6  5      3       8           3        8.00   40.00   \n",
       "7  10     7       8           5        11.20  112.00  \n",
       "8  1      9       9           5        16.20  16.20   "
      ]
     },
     "execution_count": 2,
     "metadata": {},
     "output_type": "execute_result"
    }
   ],
   "source": [
    "data['ICE'] = (data['Impact'] * data['Confidence'] / data['Efforts']).round(2)\n",
    "data['RICE'] = (data['ICE'] * data['Reach']).round(2)\n",
    "data"
   ]
  },
  {
   "cell_type": "markdown",
   "metadata": {},
   "source": [
    "Отсортируем теперь гипотезы отдельно по этим оценкам и посмотрим, какую из них выбрать в качестве приоритетной."
   ]
  },
  {
   "cell_type": "code",
   "execution_count": 3,
   "metadata": {},
   "outputs": [
    {
     "data": {
      "text/html": [
       "<div>\n",
       "<style scoped>\n",
       "    .dataframe tbody tr th:only-of-type {\n",
       "        vertical-align: middle;\n",
       "    }\n",
       "\n",
       "    .dataframe tbody tr th {\n",
       "        vertical-align: top;\n",
       "    }\n",
       "\n",
       "    .dataframe thead th {\n",
       "        text-align: right;\n",
       "    }\n",
       "</style>\n",
       "<table border=\"1\" class=\"dataframe\">\n",
       "  <thead>\n",
       "    <tr style=\"text-align: right;\">\n",
       "      <th></th>\n",
       "      <th>Hypothesis</th>\n",
       "      <th>ICE</th>\n",
       "    </tr>\n",
       "  </thead>\n",
       "  <tbody>\n",
       "    <tr>\n",
       "      <th>8</th>\n",
       "      <td>Запустить акцию, дающую скидку на товар в день рождения</td>\n",
       "      <td>16.20</td>\n",
       "    </tr>\n",
       "    <tr>\n",
       "      <th>0</th>\n",
       "      <td>Добавить два новых канала привлечения трафика, что позволит привлекать на 30% больше пользователей</td>\n",
       "      <td>13.33</td>\n",
       "    </tr>\n",
       "    <tr>\n",
       "      <th>7</th>\n",
       "      <td>Добавить форму подписки на все основные страницы, чтобы собрать базу клиентов для email-рассылок</td>\n",
       "      <td>11.20</td>\n",
       "    </tr>\n",
       "    <tr>\n",
       "      <th>6</th>\n",
       "      <td>Показать на главной странице баннеры с актуальными акциями и распродажами, чтобы увеличить конверсию</td>\n",
       "      <td>8.00</td>\n",
       "    </tr>\n",
       "    <tr>\n",
       "      <th>2</th>\n",
       "      <td>Добавить блоки рекомендаций товаров на сайт интернет магазина, чтобы повысить конверсию и средний чек заказа</td>\n",
       "      <td>7.00</td>\n",
       "    </tr>\n",
       "    <tr>\n",
       "      <th>1</th>\n",
       "      <td>Запустить собственную службу доставки, что сократит срок доставки заказов</td>\n",
       "      <td>2.00</td>\n",
       "    </tr>\n",
       "    <tr>\n",
       "      <th>5</th>\n",
       "      <td>Добавить страницу отзывов клиентов о магазине, что позволит увеличить количество заказов</td>\n",
       "      <td>1.33</td>\n",
       "    </tr>\n",
       "    <tr>\n",
       "      <th>3</th>\n",
       "      <td>Изменить структура категорий, что увеличит конверсию, т.к. пользователи быстрее найдут нужный товар</td>\n",
       "      <td>1.12</td>\n",
       "    </tr>\n",
       "    <tr>\n",
       "      <th>4</th>\n",
       "      <td>Изменить цвет фона главной страницы, чтобы увеличить вовлеченность пользователей</td>\n",
       "      <td>1.00</td>\n",
       "    </tr>\n",
       "  </tbody>\n",
       "</table>\n",
       "</div>"
      ],
      "text/plain": [
       "                                                                                                     Hypothesis  \\\n",
       "8  Запустить акцию, дающую скидку на товар в день рождения                                                        \n",
       "0  Добавить два новых канала привлечения трафика, что позволит привлекать на 30% больше пользователей             \n",
       "7  Добавить форму подписки на все основные страницы, чтобы собрать базу клиентов для email-рассылок               \n",
       "6  Показать на главной странице баннеры с актуальными акциями и распродажами, чтобы увеличить конверсию           \n",
       "2  Добавить блоки рекомендаций товаров на сайт интернет магазина, чтобы повысить конверсию и средний чек заказа   \n",
       "1  Запустить собственную службу доставки, что сократит срок доставки заказов                                      \n",
       "5  Добавить страницу отзывов клиентов о магазине, что позволит увеличить количество заказов                       \n",
       "3  Изменить структура категорий, что увеличит конверсию, т.к. пользователи быстрее найдут нужный товар            \n",
       "4  Изменить цвет фона главной страницы, чтобы увеличить вовлеченность пользователей                               \n",
       "\n",
       "     ICE  \n",
       "8  16.20  \n",
       "0  13.33  \n",
       "7  11.20  \n",
       "6  8.00   \n",
       "2  7.00   \n",
       "1  2.00   \n",
       "5  1.33   \n",
       "3  1.12   \n",
       "4  1.00   "
      ]
     },
     "execution_count": 3,
     "metadata": {},
     "output_type": "execute_result"
    }
   ],
   "source": [
    "data[['Hypothesis','ICE']].sort_values(by = 'ICE',ascending = False)"
   ]
  },
  {
   "cell_type": "code",
   "execution_count": 4,
   "metadata": {},
   "outputs": [
    {
     "data": {
      "text/html": [
       "<div>\n",
       "<style scoped>\n",
       "    .dataframe tbody tr th:only-of-type {\n",
       "        vertical-align: middle;\n",
       "    }\n",
       "\n",
       "    .dataframe tbody tr th {\n",
       "        vertical-align: top;\n",
       "    }\n",
       "\n",
       "    .dataframe thead th {\n",
       "        text-align: right;\n",
       "    }\n",
       "</style>\n",
       "<table border=\"1\" class=\"dataframe\">\n",
       "  <thead>\n",
       "    <tr style=\"text-align: right;\">\n",
       "      <th></th>\n",
       "      <th>Hypothesis</th>\n",
       "      <th>RICE</th>\n",
       "    </tr>\n",
       "  </thead>\n",
       "  <tbody>\n",
       "    <tr>\n",
       "      <th>7</th>\n",
       "      <td>Добавить форму подписки на все основные страницы, чтобы собрать базу клиентов для email-рассылок</td>\n",
       "      <td>112.00</td>\n",
       "    </tr>\n",
       "    <tr>\n",
       "      <th>2</th>\n",
       "      <td>Добавить блоки рекомендаций товаров на сайт интернет магазина, чтобы повысить конверсию и средний чек заказа</td>\n",
       "      <td>56.00</td>\n",
       "    </tr>\n",
       "    <tr>\n",
       "      <th>6</th>\n",
       "      <td>Показать на главной странице баннеры с актуальными акциями и распродажами, чтобы увеличить конверсию</td>\n",
       "      <td>40.00</td>\n",
       "    </tr>\n",
       "    <tr>\n",
       "      <th>0</th>\n",
       "      <td>Добавить два новых канала привлечения трафика, что позволит привлекать на 30% больше пользователей</td>\n",
       "      <td>39.99</td>\n",
       "    </tr>\n",
       "    <tr>\n",
       "      <th>8</th>\n",
       "      <td>Запустить акцию, дающую скидку на товар в день рождения</td>\n",
       "      <td>16.20</td>\n",
       "    </tr>\n",
       "    <tr>\n",
       "      <th>3</th>\n",
       "      <td>Изменить структура категорий, что увеличит конверсию, т.к. пользователи быстрее найдут нужный товар</td>\n",
       "      <td>8.96</td>\n",
       "    </tr>\n",
       "    <tr>\n",
       "      <th>1</th>\n",
       "      <td>Запустить собственную службу доставки, что сократит срок доставки заказов</td>\n",
       "      <td>4.00</td>\n",
       "    </tr>\n",
       "    <tr>\n",
       "      <th>5</th>\n",
       "      <td>Добавить страницу отзывов клиентов о магазине, что позволит увеличить количество заказов</td>\n",
       "      <td>3.99</td>\n",
       "    </tr>\n",
       "    <tr>\n",
       "      <th>4</th>\n",
       "      <td>Изменить цвет фона главной страницы, чтобы увеличить вовлеченность пользователей</td>\n",
       "      <td>3.00</td>\n",
       "    </tr>\n",
       "  </tbody>\n",
       "</table>\n",
       "</div>"
      ],
      "text/plain": [
       "                                                                                                     Hypothesis  \\\n",
       "7  Добавить форму подписки на все основные страницы, чтобы собрать базу клиентов для email-рассылок               \n",
       "2  Добавить блоки рекомендаций товаров на сайт интернет магазина, чтобы повысить конверсию и средний чек заказа   \n",
       "6  Показать на главной странице баннеры с актуальными акциями и распродажами, чтобы увеличить конверсию           \n",
       "0  Добавить два новых канала привлечения трафика, что позволит привлекать на 30% больше пользователей             \n",
       "8  Запустить акцию, дающую скидку на товар в день рождения                                                        \n",
       "3  Изменить структура категорий, что увеличит конверсию, т.к. пользователи быстрее найдут нужный товар            \n",
       "1  Запустить собственную службу доставки, что сократит срок доставки заказов                                      \n",
       "5  Добавить страницу отзывов клиентов о магазине, что позволит увеличить количество заказов                       \n",
       "4  Изменить цвет фона главной страницы, чтобы увеличить вовлеченность пользователей                               \n",
       "\n",
       "     RICE  \n",
       "7  112.00  \n",
       "2  56.00   \n",
       "6  40.00   \n",
       "0  39.99   \n",
       "8  16.20   \n",
       "3  8.96    \n",
       "1  4.00    \n",
       "5  3.99    \n",
       "4  3.00    "
      ]
     },
     "execution_count": 4,
     "metadata": {},
     "output_type": "execute_result"
    }
   ],
   "source": [
    "data[['Hypothesis','RICE']].sort_values(by = 'RICE', ascending = False)"
   ]
  },
  {
   "cell_type": "markdown",
   "metadata": {},
   "source": [
    "Из-за коэффициента Reach топ приоритетов гипотез изменился. Это говорит о том, что некоторые из лучших гипотез по остальным показателям (Impact, Confidence и Efforts) охватят лишь малую часть пользователей, поэтому не могут являться приоритетными для тестирования. Так, например, гипотеза №8 является очень влиятельной и в ее результате есть высокая уверенность при средней оценке затрат, но при этом оценка для охвата, равная 1, показывает, что гипотеза нацелена лишь на очень мальнкую часть аудитории. Гипотеза же №7 будет охватывать всех пользователей, и по обоим показателям находится в топе-3 приоритетных гипотез (3-я позиция для ICE, 1-я позиция для RICE). Рекомендуется запустить в тестирование именно её."
   ]
  },
  {
   "cell_type": "markdown",
   "metadata": {},
   "source": [
    "## Анализ A/B-теста."
   ]
  },
  {
   "cell_type": "markdown",
   "metadata": {},
   "source": [
    "Итак, мы провели A/B-тест гипотезы и получили промежуточные результаты, по которым в конечном итоге нужно принять решение о продолжении или остановке тестирования."
   ]
  },
  {
   "cell_type": "markdown",
   "metadata": {},
   "source": [
    "Откроем файлы и посмотрим на полученные датафреймы с заказами и количеством пользователей по датам."
   ]
  },
  {
   "cell_type": "code",
   "execution_count": 5,
   "metadata": {},
   "outputs": [
    {
     "data": {
      "text/html": [
       "<div>\n",
       "<style scoped>\n",
       "    .dataframe tbody tr th:only-of-type {\n",
       "        vertical-align: middle;\n",
       "    }\n",
       "\n",
       "    .dataframe tbody tr th {\n",
       "        vertical-align: top;\n",
       "    }\n",
       "\n",
       "    .dataframe thead th {\n",
       "        text-align: right;\n",
       "    }\n",
       "</style>\n",
       "<table border=\"1\" class=\"dataframe\">\n",
       "  <thead>\n",
       "    <tr style=\"text-align: right;\">\n",
       "      <th></th>\n",
       "      <th>transactionId</th>\n",
       "      <th>visitorId</th>\n",
       "      <th>date</th>\n",
       "      <th>revenue</th>\n",
       "      <th>group</th>\n",
       "    </tr>\n",
       "  </thead>\n",
       "  <tbody>\n",
       "    <tr>\n",
       "      <th>785</th>\n",
       "      <td>3502192780</td>\n",
       "      <td>683554837</td>\n",
       "      <td>2019-08-07</td>\n",
       "      <td>3739</td>\n",
       "      <td>B</td>\n",
       "    </tr>\n",
       "    <tr>\n",
       "      <th>94</th>\n",
       "      <td>252633006</td>\n",
       "      <td>457167155</td>\n",
       "      <td>2019-08-22</td>\n",
       "      <td>5970</td>\n",
       "      <td>B</td>\n",
       "    </tr>\n",
       "    <tr>\n",
       "      <th>992</th>\n",
       "      <td>3273938321</td>\n",
       "      <td>3857804666</td>\n",
       "      <td>2019-08-31</td>\n",
       "      <td>4685</td>\n",
       "      <td>B</td>\n",
       "    </tr>\n",
       "    <tr>\n",
       "      <th>1086</th>\n",
       "      <td>546817993</td>\n",
       "      <td>1310081088</td>\n",
       "      <td>2019-08-12</td>\n",
       "      <td>450</td>\n",
       "      <td>B</td>\n",
       "    </tr>\n",
       "    <tr>\n",
       "      <th>642</th>\n",
       "      <td>369801982</td>\n",
       "      <td>954785863</td>\n",
       "      <td>2019-08-04</td>\n",
       "      <td>9870</td>\n",
       "      <td>B</td>\n",
       "    </tr>\n",
       "  </tbody>\n",
       "</table>\n",
       "</div>"
      ],
      "text/plain": [
       "      transactionId   visitorId       date  revenue group\n",
       "785   3502192780     683554837  2019-08-07  3739     B   \n",
       "94    252633006      457167155  2019-08-22  5970     B   \n",
       "992   3273938321     3857804666 2019-08-31  4685     B   \n",
       "1086  546817993      1310081088 2019-08-12  450      B   \n",
       "642   369801982      954785863  2019-08-04  9870     B   "
      ]
     },
     "metadata": {},
     "output_type": "display_data"
    },
    {
     "name": "stdout",
     "output_type": "stream",
     "text": [
      "<class 'pandas.core.frame.DataFrame'>\n",
      "RangeIndex: 1197 entries, 0 to 1196\n",
      "Data columns (total 5 columns):\n",
      " #   Column         Non-Null Count  Dtype         \n",
      "---  ------         --------------  -----         \n",
      " 0   transactionId  1197 non-null   int64         \n",
      " 1   visitorId      1197 non-null   int64         \n",
      " 2   date           1197 non-null   datetime64[ns]\n",
      " 3   revenue        1197 non-null   int64         \n",
      " 4   group          1197 non-null   object        \n",
      "dtypes: datetime64[ns](1), int64(3), object(1)\n",
      "memory usage: 46.9+ KB\n"
     ]
    },
    {
     "data": {
      "text/plain": [
       "None"
      ]
     },
     "metadata": {},
     "output_type": "display_data"
    },
    {
     "data": {
      "text/html": [
       "<div>\n",
       "<style scoped>\n",
       "    .dataframe tbody tr th:only-of-type {\n",
       "        vertical-align: middle;\n",
       "    }\n",
       "\n",
       "    .dataframe tbody tr th {\n",
       "        vertical-align: top;\n",
       "    }\n",
       "\n",
       "    .dataframe thead th {\n",
       "        text-align: right;\n",
       "    }\n",
       "</style>\n",
       "<table border=\"1\" class=\"dataframe\">\n",
       "  <thead>\n",
       "    <tr style=\"text-align: right;\">\n",
       "      <th></th>\n",
       "      <th>date</th>\n",
       "      <th>group</th>\n",
       "      <th>visitors</th>\n",
       "    </tr>\n",
       "  </thead>\n",
       "  <tbody>\n",
       "    <tr>\n",
       "      <th>49</th>\n",
       "      <td>2019-08-19</td>\n",
       "      <td>B</td>\n",
       "      <td>487</td>\n",
       "    </tr>\n",
       "    <tr>\n",
       "      <th>51</th>\n",
       "      <td>2019-08-21</td>\n",
       "      <td>B</td>\n",
       "      <td>656</td>\n",
       "    </tr>\n",
       "    <tr>\n",
       "      <th>52</th>\n",
       "      <td>2019-08-22</td>\n",
       "      <td>B</td>\n",
       "      <td>650</td>\n",
       "    </tr>\n",
       "    <tr>\n",
       "      <th>47</th>\n",
       "      <td>2019-08-17</td>\n",
       "      <td>B</td>\n",
       "      <td>421</td>\n",
       "    </tr>\n",
       "    <tr>\n",
       "      <th>44</th>\n",
       "      <td>2019-08-14</td>\n",
       "      <td>B</td>\n",
       "      <td>746</td>\n",
       "    </tr>\n",
       "  </tbody>\n",
       "</table>\n",
       "</div>"
      ],
      "text/plain": [
       "         date group  visitors\n",
       "49 2019-08-19  B     487     \n",
       "51 2019-08-21  B     656     \n",
       "52 2019-08-22  B     650     \n",
       "47 2019-08-17  B     421     \n",
       "44 2019-08-14  B     746     "
      ]
     },
     "metadata": {},
     "output_type": "display_data"
    },
    {
     "name": "stdout",
     "output_type": "stream",
     "text": [
      "<class 'pandas.core.frame.DataFrame'>\n",
      "RangeIndex: 62 entries, 0 to 61\n",
      "Data columns (total 3 columns):\n",
      " #   Column    Non-Null Count  Dtype         \n",
      "---  ------    --------------  -----         \n",
      " 0   date      62 non-null     datetime64[ns]\n",
      " 1   group     62 non-null     object        \n",
      " 2   visitors  62 non-null     int64         \n",
      "dtypes: datetime64[ns](1), int64(1), object(1)\n",
      "memory usage: 1.6+ KB\n"
     ]
    },
    {
     "data": {
      "text/plain": [
       "None"
      ]
     },
     "metadata": {},
     "output_type": "display_data"
    }
   ],
   "source": [
    "orders = pd.read_csv('https://code.s3.yandex.net/datasets/orders.csv')\n",
    "visitors = pd.read_csv('https://code.s3.yandex.net/datasets/visitors.csv')\n",
    "\n",
    "orders['date'] = pd.to_datetime(orders['date'])\n",
    "visitors['date'] = pd.to_datetime(visitors['date'])\n",
    "\n",
    "display(orders.sample(5))\n",
    "display(orders.info())\n",
    "display(visitors.sample(5))\n",
    "display(visitors.info())"
   ]
  },
  {
   "cell_type": "markdown",
   "metadata": {},
   "source": [
    "Проведем проверку датафреймов на дубликаты. Сначала посчитаем явные."
   ]
  },
  {
   "cell_type": "code",
   "execution_count": 6,
   "metadata": {},
   "outputs": [
    {
     "name": "stdout",
     "output_type": "stream",
     "text": [
      "Количество явных дубликатов в таблице visitors: 0\n",
      "Количество явных дубликатов в таблице orders: 0\n"
     ]
    }
   ],
   "source": [
    "print('Количество явных дубликатов в таблице visitors:',visitors.duplicated().sum())\n",
    "print('Количество явных дубликатов в таблице orders:',orders.duplicated().sum())"
   ]
  },
  {
   "cell_type": "markdown",
   "metadata": {},
   "source": [
    "Явных дубликатов в таблице нет. Теперь посмотрим на неявные. Они могли возникнуть только из-за регистра текстовых ячеек в столбцах group. Посмотрим уникальные значения в этих столбцах."
   ]
  },
  {
   "cell_type": "code",
   "execution_count": 7,
   "metadata": {},
   "outputs": [
    {
     "name": "stdout",
     "output_type": "stream",
     "text": [
      "Уникальные значения столбца группы в таблице visitors ['A' 'B']\n",
      "Уникальные значения столбца группы в таблице orders ['B' 'A']\n"
     ]
    }
   ],
   "source": [
    "print('Уникальные значения столбца группы в таблице visitors',visitors['group'].unique())\n",
    "print('Уникальные значения столбца группы в таблице orders',orders['group'].unique())"
   ]
  },
  {
   "cell_type": "markdown",
   "metadata": {},
   "source": [
    "С регистром все в порядке, неявные дубликаты исключены. Идем дальше."
   ]
  },
  {
   "cell_type": "markdown",
   "metadata": {},
   "source": [
    "### Для начала построим графики кумулятивной выручки по дням. "
   ]
  },
  {
   "cell_type": "markdown",
   "metadata": {},
   "source": [
    "Составим таблицы кумулятивной выручки по дням для обеих групп и построим графики."
   ]
  },
  {
   "cell_type": "code",
   "execution_count": 8,
   "metadata": {},
   "outputs": [
    {
     "data": {
      "text/html": [
       "<div>\n",
       "<style scoped>\n",
       "    .dataframe tbody tr th:only-of-type {\n",
       "        vertical-align: middle;\n",
       "    }\n",
       "\n",
       "    .dataframe tbody tr th {\n",
       "        vertical-align: top;\n",
       "    }\n",
       "\n",
       "    .dataframe thead th {\n",
       "        text-align: right;\n",
       "    }\n",
       "</style>\n",
       "<table border=\"1\" class=\"dataframe\">\n",
       "  <thead>\n",
       "    <tr style=\"text-align: right;\">\n",
       "      <th></th>\n",
       "      <th>date</th>\n",
       "      <th>CumRevA</th>\n",
       "    </tr>\n",
       "  </thead>\n",
       "  <tbody>\n",
       "    <tr>\n",
       "      <th>0</th>\n",
       "      <td>2019-08-01</td>\n",
       "      <td>148579</td>\n",
       "    </tr>\n",
       "    <tr>\n",
       "      <th>1</th>\n",
       "      <td>2019-08-02</td>\n",
       "      <td>242401</td>\n",
       "    </tr>\n",
       "    <tr>\n",
       "      <th>2</th>\n",
       "      <td>2019-08-03</td>\n",
       "      <td>354874</td>\n",
       "    </tr>\n",
       "    <tr>\n",
       "      <th>3</th>\n",
       "      <td>2019-08-04</td>\n",
       "      <td>425699</td>\n",
       "    </tr>\n",
       "    <tr>\n",
       "      <th>4</th>\n",
       "      <td>2019-08-05</td>\n",
       "      <td>549917</td>\n",
       "    </tr>\n",
       "    <tr>\n",
       "      <th>5</th>\n",
       "      <td>2019-08-06</td>\n",
       "      <td>598401</td>\n",
       "    </tr>\n",
       "    <tr>\n",
       "      <th>6</th>\n",
       "      <td>2019-08-07</td>\n",
       "      <td>740818</td>\n",
       "    </tr>\n",
       "    <tr>\n",
       "      <th>7</th>\n",
       "      <td>2019-08-08</td>\n",
       "      <td>837097</td>\n",
       "    </tr>\n",
       "    <tr>\n",
       "      <th>8</th>\n",
       "      <td>2019-08-09</td>\n",
       "      <td>1025603</td>\n",
       "    </tr>\n",
       "    <tr>\n",
       "      <th>9</th>\n",
       "      <td>2019-08-10</td>\n",
       "      <td>1236098</td>\n",
       "    </tr>\n",
       "  </tbody>\n",
       "</table>\n",
       "</div>"
      ],
      "text/plain": [
       "        date  CumRevA\n",
       "0 2019-08-01  148579 \n",
       "1 2019-08-02  242401 \n",
       "2 2019-08-03  354874 \n",
       "3 2019-08-04  425699 \n",
       "4 2019-08-05  549917 \n",
       "5 2019-08-06  598401 \n",
       "6 2019-08-07  740818 \n",
       "7 2019-08-08  837097 \n",
       "8 2019-08-09  1025603\n",
       "9 2019-08-10  1236098"
      ]
     },
     "metadata": {},
     "output_type": "display_data"
    },
    {
     "data": {
      "text/html": [
       "<div>\n",
       "<style scoped>\n",
       "    .dataframe tbody tr th:only-of-type {\n",
       "        vertical-align: middle;\n",
       "    }\n",
       "\n",
       "    .dataframe tbody tr th {\n",
       "        vertical-align: top;\n",
       "    }\n",
       "\n",
       "    .dataframe thead th {\n",
       "        text-align: right;\n",
       "    }\n",
       "</style>\n",
       "<table border=\"1\" class=\"dataframe\">\n",
       "  <thead>\n",
       "    <tr style=\"text-align: right;\">\n",
       "      <th></th>\n",
       "      <th>date</th>\n",
       "      <th>CumRevB</th>\n",
       "    </tr>\n",
       "  </thead>\n",
       "  <tbody>\n",
       "    <tr>\n",
       "      <th>0</th>\n",
       "      <td>2019-08-01</td>\n",
       "      <td>101217</td>\n",
       "    </tr>\n",
       "    <tr>\n",
       "      <th>1</th>\n",
       "      <td>2019-08-02</td>\n",
       "      <td>266748</td>\n",
       "    </tr>\n",
       "    <tr>\n",
       "      <th>2</th>\n",
       "      <td>2019-08-03</td>\n",
       "      <td>380996</td>\n",
       "    </tr>\n",
       "    <tr>\n",
       "      <th>3</th>\n",
       "      <td>2019-08-04</td>\n",
       "      <td>489567</td>\n",
       "    </tr>\n",
       "    <tr>\n",
       "      <th>4</th>\n",
       "      <td>2019-08-05</td>\n",
       "      <td>581995</td>\n",
       "    </tr>\n",
       "    <tr>\n",
       "      <th>5</th>\n",
       "      <td>2019-08-06</td>\n",
       "      <td>824337</td>\n",
       "    </tr>\n",
       "    <tr>\n",
       "      <th>6</th>\n",
       "      <td>2019-08-07</td>\n",
       "      <td>1049671</td>\n",
       "    </tr>\n",
       "    <tr>\n",
       "      <th>7</th>\n",
       "      <td>2019-08-08</td>\n",
       "      <td>1270589</td>\n",
       "    </tr>\n",
       "    <tr>\n",
       "      <th>8</th>\n",
       "      <td>2019-08-09</td>\n",
       "      <td>1431401</td>\n",
       "    </tr>\n",
       "    <tr>\n",
       "      <th>9</th>\n",
       "      <td>2019-08-10</td>\n",
       "      <td>1539203</td>\n",
       "    </tr>\n",
       "  </tbody>\n",
       "</table>\n",
       "</div>"
      ],
      "text/plain": [
       "        date  CumRevB\n",
       "0 2019-08-01  101217 \n",
       "1 2019-08-02  266748 \n",
       "2 2019-08-03  380996 \n",
       "3 2019-08-04  489567 \n",
       "4 2019-08-05  581995 \n",
       "5 2019-08-06  824337 \n",
       "6 2019-08-07  1049671\n",
       "7 2019-08-08  1270589\n",
       "8 2019-08-09  1431401\n",
       "9 2019-08-10  1539203"
      ]
     },
     "metadata": {},
     "output_type": "display_data"
    }
   ],
   "source": [
    "DayRevA = orders[orders['group'] == 'A'].groupby( # Выбираем заказы для пользователей из группы А\n",
    "    'date', as_index = False).agg( # Создаем группировку по датам с суммой выручки\n",
    "        {'revenue':'sum'})\n",
    "\n",
    "CumRevA = DayRevA.apply( \n",
    "            lambda x: DayRevA[DayRevA['date'] <= x['date']].agg( # Применяем функцию лямбда для кумулятивного расчета по датам\n",
    "                {'date':'max', 'revenue':'sum'} # Составляем таблицу из дат и кумулятивной выручки на каждый день\n",
    "    ), axis = 1\n",
    ")\n",
    "CumRevA.columns = ['date','CumRevA'] # Переименовываем названия столбцов\n",
    "\n",
    "\n",
    "# Аналогично для группы B\n",
    "DayRevB = orders[orders['group'] == 'B'].groupby( \n",
    "    'date', as_index = False).agg(\n",
    "        {'revenue':'sum'})\n",
    "\n",
    "CumRevB = DayRevA.apply( \n",
    "            lambda x: DayRevB[DayRevB['date'] <= x['date']].agg(\n",
    "                {'date':'max', 'revenue':'sum'}\n",
    "    ), axis = 1\n",
    ")\n",
    "CumRevB.columns = ['date','CumRevB']\n",
    "\n",
    "display(CumRevA.head(10))\n",
    "display(CumRevB.head(10))"
   ]
  },
  {
   "cell_type": "code",
   "execution_count": 9,
   "metadata": {},
   "outputs": [
    {
     "data": {
      "image/png": "[encoded data removed]",
      "text/plain": [
       "<Figure size 1080x576 with 1 Axes>"
      ]
     },
     "metadata": {
      "needs_background": "light"
     },
     "output_type": "display_data"
    }
   ],
   "source": [
    "tableplot1 = CumRevA.merge(CumRevB, left_on = 'date', right_on = 'date', how = 'outer') # Соединяем таблицы по столбцу с датами\n",
    "\n",
    "import matplotlib.pyplot as plt # Импортируем библиотеку\n",
    "\n",
    "plt.figure(figsize = (15,8))\n",
    "plt.plot(tableplot1['date'], tableplot1['CumRevA'], label = 'A')\n",
    "plt.plot(tableplot1['date'], tableplot1['CumRevB'], label = 'B')\n",
    "plt.grid()\n",
    "plt.xlabel('Дата')\n",
    "plt.ylabel('Кумулятивная выручка')\n",
    "plt.legend();"
   ]
  },
  {
   "cell_type": "markdown",
   "metadata": {},
   "source": [
    "Из графика видно, что до 5 августа выручка для групп примерно одинакова. После 5 августа группа B показывает немного лучшие результаты вплоть до 18 августа. С 19 августа виден резкий скачок в группе B. Скорее всего, в заказах есть аномальные значения."
   ]
  },
  {
   "cell_type": "markdown",
   "metadata": {},
   "source": [
    "### Графики кумулятивного среднего чека по дням"
   ]
  },
  {
   "cell_type": "code",
   "execution_count": 10,
   "metadata": {},
   "outputs": [
    {
     "data": {
      "text/html": [
       "<div>\n",
       "<style scoped>\n",
       "    .dataframe tbody tr th:only-of-type {\n",
       "        vertical-align: middle;\n",
       "    }\n",
       "\n",
       "    .dataframe tbody tr th {\n",
       "        vertical-align: top;\n",
       "    }\n",
       "\n",
       "    .dataframe thead th {\n",
       "        text-align: right;\n",
       "    }\n",
       "</style>\n",
       "<table border=\"1\" class=\"dataframe\">\n",
       "  <thead>\n",
       "    <tr style=\"text-align: right;\">\n",
       "      <th></th>\n",
       "      <th>date</th>\n",
       "      <th>CumMeanRevA</th>\n",
       "    </tr>\n",
       "  </thead>\n",
       "  <tbody>\n",
       "    <tr>\n",
       "      <th>0</th>\n",
       "      <td>2019-08-01</td>\n",
       "      <td>6190.791667</td>\n",
       "    </tr>\n",
       "    <tr>\n",
       "      <th>1</th>\n",
       "      <td>2019-08-02</td>\n",
       "      <td>5440.945833</td>\n",
       "    </tr>\n",
       "    <tr>\n",
       "      <th>2</th>\n",
       "      <td>2019-08-03</td>\n",
       "      <td>5189.422222</td>\n",
       "    </tr>\n",
       "    <tr>\n",
       "      <th>3</th>\n",
       "      <td>2019-08-04</td>\n",
       "      <td>4998.707292</td>\n",
       "    </tr>\n",
       "    <tr>\n",
       "      <th>4</th>\n",
       "      <td>2019-08-05</td>\n",
       "      <td>4992.709833</td>\n",
       "    </tr>\n",
       "  </tbody>\n",
       "</table>\n",
       "</div>"
      ],
      "text/plain": [
       "        date  CumMeanRevA\n",
       "0 2019-08-01  6190.791667\n",
       "1 2019-08-02  5440.945833\n",
       "2 2019-08-03  5189.422222\n",
       "3 2019-08-04  4998.707292\n",
       "4 2019-08-05  4992.709833"
      ]
     },
     "metadata": {},
     "output_type": "display_data"
    },
    {
     "data": {
      "text/html": [
       "<div>\n",
       "<style scoped>\n",
       "    .dataframe tbody tr th:only-of-type {\n",
       "        vertical-align: middle;\n",
       "    }\n",
       "\n",
       "    .dataframe tbody tr th {\n",
       "        vertical-align: top;\n",
       "    }\n",
       "\n",
       "    .dataframe thead th {\n",
       "        text-align: right;\n",
       "    }\n",
       "</style>\n",
       "<table border=\"1\" class=\"dataframe\">\n",
       "  <thead>\n",
       "    <tr style=\"text-align: right;\">\n",
       "      <th></th>\n",
       "      <th>date</th>\n",
       "      <th>CumMeanRevB</th>\n",
       "    </tr>\n",
       "  </thead>\n",
       "  <tbody>\n",
       "    <tr>\n",
       "      <th>0</th>\n",
       "      <td>2019-08-01</td>\n",
       "      <td>4819.857143</td>\n",
       "    </tr>\n",
       "    <tr>\n",
       "      <th>1</th>\n",
       "      <td>2019-08-02</td>\n",
       "      <td>5858.491071</td>\n",
       "    </tr>\n",
       "    <tr>\n",
       "      <th>2</th>\n",
       "      <td>2019-08-03</td>\n",
       "      <td>6285.827381</td>\n",
       "    </tr>\n",
       "    <tr>\n",
       "      <th>3</th>\n",
       "      <td>2019-08-04</td>\n",
       "      <td>6311.002889</td>\n",
       "    </tr>\n",
       "    <tr>\n",
       "      <th>4</th>\n",
       "      <td>2019-08-05</td>\n",
       "      <td>5852.524050</td>\n",
       "    </tr>\n",
       "  </tbody>\n",
       "</table>\n",
       "</div>"
      ],
      "text/plain": [
       "        date  CumMeanRevB\n",
       "0 2019-08-01  4819.857143\n",
       "1 2019-08-02  5858.491071\n",
       "2 2019-08-03  6285.827381\n",
       "3 2019-08-04  6311.002889\n",
       "4 2019-08-05  5852.524050"
      ]
     },
     "metadata": {},
     "output_type": "display_data"
    }
   ],
   "source": [
    "DayMeanRevA = orders[orders['group'] == 'A'].groupby('date', as_index = False).agg({'revenue':'mean'}) # Отбираем из заказов записи для группы А, группируем по датам и находим средний чек по дням\n",
    "CumMeanRevA = DayMeanRevA.apply( # Применяем лямбда функцию для нахождения кумулятивной средней выручки\n",
    "    lambda x: DayMeanRevA[DayMeanRevA['date'] <= x['date']].agg( \n",
    "        {'date':'max' ,'revenue':'mean'}\n",
    "    ), axis = 1\n",
    ")\n",
    "CumMeanRevA.columns = ['date', 'CumMeanRevA'] # Переименовываем столбцы\n",
    "\n",
    "# Аналогично для группы B\n",
    "DayMeanRevB = orders[orders['group'] == 'B'].groupby('date', as_index = False).agg({'revenue':'mean'}) \n",
    "CumMeanRevB = DayMeanRevB.apply(\n",
    "    lambda x: DayMeanRevB[DayMeanRevB['date'] <= x['date']].agg( \n",
    "        {'date':'max' ,'revenue':'mean'}\n",
    "    ), axis = 1\n",
    ")\n",
    "CumMeanRevB.columns = ['date', 'CumMeanRevB']\n",
    "\n",
    "display(CumMeanRevA.head())\n",
    "display(CumMeanRevB.head())"
   ]
  },
  {
   "cell_type": "code",
   "execution_count": 11,
   "metadata": {},
   "outputs": [
    {
     "data": {
      "image/png": "[encoded data removed]",
      "text/plain": [
       "<Figure size 1080x576 with 1 Axes>"
      ]
     },
     "metadata": {
      "needs_background": "light"
     },
     "output_type": "display_data"
    }
   ],
   "source": [
    "plt.figure(figsize = (15,8))\n",
    "plt.plot(CumMeanRevA['date'], CumMeanRevA['CumMeanRevA'], label = 'A')\n",
    "plt.plot(CumMeanRevB['date'], CumMeanRevB['CumMeanRevB'], label = 'B')\n",
    "plt.grid()\n",
    "plt.xlabel('Дата')\n",
    "plt.ylabel('Кумулятивный средний чек')\n",
    "plt.legend();"
   ]
  },
  {
   "cell_type": "markdown",
   "metadata": {},
   "source": [
    "По этому графику трудно сказать что-то определенное кроме того, что за 19 августа для группы B также наблюдается резкий скачок: до 10 августа средний чек был выше у группы B, а с 10 и до 19 у группы A; ни для одной из групп средний чек не установился достаточно, чтобы делать какие-то выводы. В группе B подтвердились аномальные значения. У группы A же до 26 средний чек более-менее стабилизировался, однако потом снова несколько вырос. Требуется обработать аномальные значения, после чего снова посмотреть на данный график. К концу исследуемого периода у группы А наблюдается рост, а у группы B снижение среднего чека."
   ]
  },
  {
   "cell_type": "markdown",
   "metadata": {},
   "source": [
    "### График относительного изменения кумулятивного среднего чека группы B к группе A"
   ]
  },
  {
   "cell_type": "code",
   "execution_count": 12,
   "metadata": {},
   "outputs": [
    {
     "data": {
      "image/png": "[encoded data removed]",
      "text/plain": [
       "<Figure size 1080x360 with 1 Axes>"
      ]
     },
     "metadata": {
      "needs_background": "light"
     },
     "output_type": "display_data"
    }
   ],
   "source": [
    "plt.figure(figsize = (15,5)) # Устанавливаем размер графика\n",
    "\n",
    "plt.plot(CumMeanRevA['date'], (CumMeanRevB['CumMeanRevB']/CumMeanRevA['CumMeanRevA'] - 1)) # Строим график относительного изменения кумулятивного среднего чека группы B к группе A\n",
    "\n",
    "plt.axhline(y = 0, color = 'red', linestyle = '-.') # Задаем горизонтальную линию на уровне нуля для сравнения групп\n",
    "\n",
    "plt.xticks(CumMeanRevA['date'], rotation = 45) # Наклоняем подписии к оси X, чтобы даты не перекрывали друг друга\n",
    "\n",
    "plt.grid()\n",
    "\n",
    "plt.title('Грфик относительного изменения кумулятивного среднего чека группы B к группе A'); # Строим сетку\n"
   ]
  },
  {
   "cell_type": "markdown",
   "metadata": {},
   "source": [
    "График скачет и не установился, что также может говорить о наличии аномалий в данных. Точного вывода пока сделать нельзя, но во второй половине месяца группа B пока что показывает себя лучше группы A."
   ]
  },
  {
   "cell_type": "markdown",
   "metadata": {},
   "source": [
    "### График кумулятивного среднего количества заказов на посетителя по группам"
   ]
  },
  {
   "cell_type": "code",
   "execution_count": 13,
   "metadata": {},
   "outputs": [
    {
     "data": {
      "image/png": "[encoded data removed]",
      "text/plain": [
       "<Figure size 1080x576 with 1 Axes>"
      ]
     },
     "metadata": {
      "needs_background": "light"
     },
     "output_type": "display_data"
    }
   ],
   "source": [
    "DailyOrdersA = orders[orders['group'] == 'A'].groupby('date').agg({'transactionId' : 'nunique'}) # Создаем таблицу количества заказов по датам\n",
    "\n",
    "DailyVisitorsA = visitors[visitors['group'] == 'A'] # В этой таблице содержатся посетители по датам только из группы A\n",
    "\n",
    "OrdPerUsA = DailyOrdersA.merge(DailyVisitorsA, right_on = 'date', left_on = 'date', how = 'outer') # Объединяем таблицы\n",
    "OrdPerUsA['OrdPerUsA'] = OrdPerUsA['transactionId'] / OrdPerUsA['visitors'] # Добавляем столбец со средним количеством заказов на  одного посетителя по дням\n",
    "OrdPerUsA = OrdPerUsA[['date','OrdPerUsA']] # Оставляем только нужные столбцы\n",
    "\n",
    "# Аналогично для группы B\n",
    "\n",
    "DailyOrdersB = orders[orders['group'] == 'B'].groupby('date').agg({'transactionId' : 'nunique'})\n",
    "\n",
    "DailyVisitorsB = visitors[visitors['group'] == 'B']\n",
    "\n",
    "OrdPerUsB = DailyOrdersB.merge(DailyVisitorsB, right_on = 'date', left_on = 'date', how = 'outer')\n",
    "OrdPerUsB['OrdPerUsB'] = OrdPerUsB['transactionId'] / OrdPerUsB['visitors']\n",
    "OrdPerUsB = OrdPerUsB[['date','OrdPerUsB']]\n",
    "\n",
    "# Объединяем таблицы\n",
    "OrdPerUs = OrdPerUsA.merge(OrdPerUsB, on = 'date', how = 'outer')\n",
    "CumOrdPerUs = OrdPerUs.apply(\n",
    "    lambda x: OrdPerUs[OrdPerUs['date'] <= x['date']].agg(\n",
    "        {'date':'max', 'OrdPerUsA':'mean', 'OrdPerUsB':'mean'})\n",
    ",axis = 1)\n",
    "\n",
    "# Строим график\n",
    "plt.figure(figsize = (15,8))\n",
    "plt.grid()\n",
    "ax1 = plt.plot(CumOrdPerUs['date'], CumOrdPerUs['OrdPerUsA'],label = 'A')\n",
    "ax2 = plt.plot(CumOrdPerUs['date'], CumOrdPerUs['OrdPerUsB'],label = 'B')\n",
    "plt.xlabel('Дата')\n",
    "plt.ylabel('Среднее количество заказов на посетителя')\n",
    "plt.legend()\n",
    "plt.title('График кумулятивного среднего количества заказов на посетителя по группам');"
   ]
  },
  {
   "cell_type": "markdown",
   "metadata": {},
   "source": [
    "Со второй половины месяца графики почти установились, есть некоторые колебания вокруг средних значений (примерно 0.031 для группы А и 0.035 для группы B). Группа B по данному показателю проявляет себя лучше, что явно видно из графика."
   ]
  },
  {
   "cell_type": "markdown",
   "metadata": {},
   "source": [
    "#### График относительного изменения кумулятивного среднего количества заказов на посетителя группы B к группе A"
   ]
  },
  {
   "cell_type": "code",
   "execution_count": 14,
   "metadata": {},
   "outputs": [
    {
     "data": {
      "image/png": "[encoded data removed]",
      "text/plain": [
       "<Figure size 1080x576 with 1 Axes>"
      ]
     },
     "metadata": {
      "needs_background": "light"
     },
     "output_type": "display_data"
    }
   ],
   "source": [
    "plt.figure(figsize = (15,8)) # Задаем размер графика\n",
    "plt.grid() # Отмечаем сетку\n",
    "plt.plot(CumOrdPerUs['date'], (CumOrdPerUs['OrdPerUsB']/CumOrdPerUs['OrdPerUsA'] - 1)) # Строим график относительного изменения кумулятивного среднего количества заказов по датам\n",
    "plt.axhline(y = 0, color = 'red', linestyle = '-.')\n",
    "plt.xlabel('Дата') # Подписываем оси\n",
    "plt.ylabel('Относительное изменение кумулятивного среднего количества заказов');"
   ]
  },
  {
   "cell_type": "markdown",
   "metadata": {},
   "source": [
    "График относительного изменения это подтверждает: группа B после установления значений показывает себя значительно лучше (на 10-15% к концу исследуемого периода)."
   ]
  },
  {
   "cell_type": "markdown",
   "metadata": {},
   "source": [
    "#### Точечный график количества заказов по пользователям"
   ]
  },
  {
   "cell_type": "markdown",
   "metadata": {},
   "source": [
    "Построим точечный график количества заказов по пользователям, чтобы выделить аномальные значения, которые могут влиять на показатели по группам."
   ]
  },
  {
   "cell_type": "code",
   "execution_count": 15,
   "metadata": {
    "scrolled": false
   },
   "outputs": [
    {
     "data": {
      "image/png": "[encoded data removed]",
      "text/plain": [
       "<Figure size 1080x576 with 1 Axes>"
      ]
     },
     "metadata": {
      "needs_background": "light"
     },
     "output_type": "display_data"
    }
   ],
   "source": [
    "UsOrd = orders.groupby('visitorId', as_index = False).agg({'transactionId':'nunique'})\n",
    "\n",
    "plt.figure(figsize = (15,8))\n",
    "plt.scatter(pd.Series(range(0,len(UsOrd['visitorId']))), UsOrd['transactionId'])\n",
    "plt.ylabel('Количество заказов')\n",
    "plt.xlabel('Условный индекс пользователя')\n",
    "plt.grid()\n",
    "plt.title('Точечный график количества заказов по пользователям');"
   ]
  },
  {
   "cell_type": "markdown",
   "metadata": {},
   "source": [
    "Большинство пользователей совершили 1-2 заказа. Очевидно, что в таких условиях количество заказов больше 10 - аномалии, от которых нужно избавиться\n"
   ]
  },
  {
   "cell_type": "markdown",
   "metadata": {},
   "source": [
    "#### Граница для определения аномальных пользователей по количеству заказов"
   ]
  },
  {
   "cell_type": "markdown",
   "metadata": {},
   "source": [
    "Для того, чтобы определить границу, выше которой количества заказов на пользователей будет считаться аномальными, построим 95-й и 99-й перцентили."
   ]
  },
  {
   "cell_type": "code",
   "execution_count": 16,
   "metadata": {},
   "outputs": [
    {
     "name": "stdout",
     "output_type": "stream",
     "text": [
      "95-й и 99-й перцентили для количества заказов по пользователям соответственно: [2. 4.]\n"
     ]
    }
   ],
   "source": [
    "UsOrd.columns = [['user_id','orders']]\n",
    "import numpy as np\n",
    "print('95-й и 99-й перцентили для количества заказов по пользователям соответственно:',np.percentile(UsOrd['orders'], [95, 99]))"
   ]
  },
  {
   "cell_type": "markdown",
   "metadata": {},
   "source": [
    "Поскольку лишь 5% посетителей делали больше 2-х заказов, и менее 1% - больше 4, выберем в качестве аномальных пользователей, сделавших больше 3 заказов."
   ]
  },
  {
   "cell_type": "markdown",
   "metadata": {},
   "source": [
    "#### Точечный график стоимостей заказов"
   ]
  },
  {
   "cell_type": "markdown",
   "metadata": {},
   "source": [
    "Аналогично визуализируем теперь стоимости заказов, чтобы увидеть крайние значения."
   ]
  },
  {
   "cell_type": "code",
   "execution_count": 17,
   "metadata": {},
   "outputs": [
    {
     "data": {
      "image/png": "[encoded data removed]",
      "text/plain": [
       "<Figure size 1080x576 with 1 Axes>"
      ]
     },
     "metadata": {
      "needs_background": "light"
     },
     "output_type": "display_data"
    }
   ],
   "source": [
    "plt.figure(figsize = (15,8))\n",
    "plt.scatter(pd.Series(range(0,len(orders['transactionId']))), orders['revenue'])\n",
    "plt.ylabel('Стоимость заказов')\n",
    "plt.xlabel('Условный индекс пользователя')\n",
    "plt.grid()\n",
    "plt.title('Точечный график стоимостей заказов по пользователям');"
   ]
  },
  {
   "cell_type": "markdown",
   "metadata": {},
   "source": [
    "Вот это аномалия всем аномалиям. Из-за одного заказа стоимостью больше миллиона, масштаб графика получился таким, что остальные значения слились почти в одну прямую. Прежде, чем строить перцентили, построим этот же график в другом масштабе."
   ]
  },
  {
   "cell_type": "code",
   "execution_count": 18,
   "metadata": {},
   "outputs": [
    {
     "data": {
      "image/png": "[encoded data removed]",
      "text/plain": [
       "<Figure size 1080x576 with 1 Axes>"
      ]
     },
     "metadata": {
      "needs_background": "light"
     },
     "output_type": "display_data"
    }
   ],
   "source": [
    "plt.figure(figsize = (15,8))\n",
    "plt.scatter(pd.Series(range(0,len(orders['transactionId']))), orders['revenue'])\n",
    "plt.ylabel('Стоимость заказов')\n",
    "plt.xlabel('Условный индекс пользователя')\n",
    "plt.grid()\n",
    "plt.title('Точечный график стоимостей заказов по пользователям')\n",
    "plt.ylim([0,100000]);"
   ]
  },
  {
   "cell_type": "markdown",
   "metadata": {},
   "source": [
    "Теперь лучше видно распределение по стоимостям. Оценочно, лишь малая часть заказов составила выше 40 тыс.ед. Теперь построим перцентили."
   ]
  },
  {
   "cell_type": "markdown",
   "metadata": {},
   "source": [
    "#### Граница для определения аномальных значений по стоимости заказов"
   ]
  },
  {
   "cell_type": "code",
   "execution_count": 19,
   "metadata": {},
   "outputs": [
    {
     "name": "stdout",
     "output_type": "stream",
     "text": [
      "95-й и 99-й перцентили для стоимости заказов соответственно: [28000.  58233.2]\n"
     ]
    }
   ],
   "source": [
    "print('95-й и 99-й перцентили для стоимости заказов соответственно:',np.percentile(orders['revenue'], [95, 99]))"
   ]
  },
  {
   "cell_type": "markdown",
   "metadata": {},
   "source": [
    "Что подтверждает выводы из графика. Возьмем границу для отсеивания аномальных значений по стоимости заказа в размере 40 тыс.ед."
   ]
  },
  {
   "cell_type": "markdown",
   "metadata": {},
   "source": [
    "#### Статистическая значимость различий в среднем количестве заказов на посетителя между группами по «сырым» данным"
   ]
  },
  {
   "cell_type": "markdown",
   "metadata": {},
   "source": [
    "Оценим статистическую значимость распределений средних количеств заказов на посетителя методом Уилкоксона-Манна-Уитни для групп A и B по \"сырым\" данным."
   ]
  },
  {
   "cell_type": "markdown",
   "metadata": {},
   "source": [
    "Примем за нулевую гипотезу: \"Среднее количество заказов на посетителя между группами A и B по сырым данным равны\"."
   ]
  },
  {
   "cell_type": "markdown",
   "metadata": {},
   "source": [
    "За альтернативную: \"Среднее количество заказов на посетителя между группами A и B по сырым данным НЕ равны\"."
   ]
  },
  {
   "cell_type": "markdown",
   "metadata": {},
   "source": [
    "Уровень статистической значимости примем за alpha = 0.05"
   ]
  },
  {
   "cell_type": "code",
   "execution_count": 20,
   "metadata": {
    "scrolled": false
   },
   "outputs": [
    {
     "name": "stdout",
     "output_type": "stream",
     "text": [
      "Статистическая значимость для среднего количества заказов на посетителя =  0.016792355056752608\n",
      "Относительное различие =  0.13807884655320146\n"
     ]
    }
   ],
   "source": [
    "import scipy.stats as stats\n",
    "\n",
    "UsOrdA = orders[orders['group'] == 'A'].groupby('visitorId', as_index = False).agg({'transactionId':'nunique'})\n",
    "UsOrdA.columns = ['visitorId','orders']\n",
    "sampleA = pd.concat(\n",
    "    [\n",
    "        UsOrdA['orders'],\n",
    "        pd.Series(\n",
    "            0,\n",
    "            index=np.arange(\n",
    "                visitors[visitors['group'] == 'A']['visitors'].sum() - len(UsOrdA['orders'])\n",
    "            ),\n",
    "            name='orders',\n",
    "        ),\n",
    "    ],\n",
    "    axis=0,\n",
    ")\n",
    "\n",
    "UsOrdB = orders[orders['group'] == 'B'].groupby('visitorId', as_index = False).agg({'transactionId':'nunique'})\n",
    "UsOrdB.columns = ['visitorId','orders']\n",
    "sampleB = pd.concat(\n",
    "    [\n",
    "        UsOrdB['orders'],\n",
    "        pd.Series(\n",
    "            0,\n",
    "            index=np.arange(\n",
    "                visitors[visitors['group'] == 'B']['visitors'].sum() - len(UsOrdB['orders'])\n",
    "            ),\n",
    "            name='orders',\n",
    "        ),\n",
    "    ],\n",
    "    axis=0,\n",
    ")\n",
    "\n",
    "print('Статистическая значимость для среднего количества заказов на посетителя = ',stats.mannwhitneyu(sampleA,sampleB)[1])\n",
    "print('Относительное различие = ',(sampleB.mean()/sampleA.mean() - 1))"
   ]
  },
  {
   "cell_type": "markdown",
   "metadata": {},
   "source": [
    "Статистическая значимость получилась ниже порога. Следовательно, группы отличаются, при этому группа B ведет, и как показывает относительное различие, почти на 14%."
   ]
  },
  {
   "cell_type": "markdown",
   "metadata": {},
   "source": [
    "#### Статистическая значимость различий в среднем чеке заказа между группами по «сырым» данным"
   ]
  },
  {
   "cell_type": "markdown",
   "metadata": {},
   "source": [
    "Теперь аналогично оценим статистическую значимость распределений средних чеков в заказах."
   ]
  },
  {
   "cell_type": "markdown",
   "metadata": {},
   "source": [
    "Примем за нулевую гипотезу: \"Средний чек заказа между группами A и B по сырым данным равны\"."
   ]
  },
  {
   "cell_type": "markdown",
   "metadata": {},
   "source": [
    "За альтернативную: \"Средний чек заказа между группами A и B по сырым данным НЕ равны\"."
   ]
  },
  {
   "cell_type": "markdown",
   "metadata": {},
   "source": [
    "Уровень статистической значимости примем за alpha = 0.05"
   ]
  },
  {
   "cell_type": "code",
   "execution_count": 21,
   "metadata": {},
   "outputs": [
    {
     "name": "stdout",
     "output_type": "stream",
     "text": [
      "Статистическая значимость для средних чеков заказов =  0.7292909855432458\n",
      "Относительное различие =  0.2587136699126005\n"
     ]
    }
   ],
   "source": [
    "print('Статистическая значимость для средних чеков заказов = ', stats.mannwhitneyu(orders[orders['group'] == 'A']['revenue'],orders[orders['group'] == 'B']['revenue'])[1])\n",
    "print('Относительное различие = ',(orders[orders['group'] == 'B']['revenue'].mean()/orders[orders['group'] == 'A']['revenue'].mean() - 1))"
   ]
  },
  {
   "cell_type": "markdown",
   "metadata": {},
   "source": [
    "Статистическая значимость говорит нам о том, что различий между средними чеками для групп нет, но по относительному различию группа B опережает аж на 26%. Попробуем избавиться от крайних значений и дальше уже будем делать выводы."
   ]
  },
  {
   "cell_type": "markdown",
   "metadata": {},
   "source": [
    "#### Статистическая значимость различий в среднем количестве заказов на посетителя между группами по «очищенным» данным"
   ]
  },
  {
   "cell_type": "markdown",
   "metadata": {},
   "source": [
    "Попробуем теперь очистить данные от аномальных пользователей и снова проверить статистическое равенство средних. Не учитываем пользователей, сделавших больше 3-х заказов."
   ]
  },
  {
   "cell_type": "markdown",
   "metadata": {},
   "source": [
    "Примем за нулевую гипотезу: \"Среднее количество заказов на посетителя между группами A и B по очищенным данным равны\"."
   ]
  },
  {
   "cell_type": "markdown",
   "metadata": {},
   "source": [
    "За альтернативную: \"Среднее количество заказов на посетителя между группами A и B по очищенным данным НЕ равны\"."
   ]
  },
  {
   "cell_type": "markdown",
   "metadata": {},
   "source": [
    "Уровень статистической значимости по-прежнему принимаем за alpha = 0.05"
   ]
  },
  {
   "cell_type": "code",
   "execution_count": 22,
   "metadata": {},
   "outputs": [
    {
     "name": "stdout",
     "output_type": "stream",
     "text": [
      "Статистическая значимость для среднего количества заказов на посетителя =  0.01609802190560569\n",
      "Относительное различие =  0.14993369709789572\n"
     ]
    }
   ],
   "source": [
    "import scipy.stats as stats\n",
    "\n",
    "PurUsOrdA = orders[orders['group'] == 'A'].groupby('visitorId', as_index = False).agg({'transactionId':'nunique'})\n",
    "PurUsOrdA.columns = ['visitorId','orders']\n",
    "PurUsOrdA = PurUsOrdA[PurUsOrdA['orders'] <= 3]\n",
    "sampleA = pd.concat(\n",
    "    [\n",
    "        PurUsOrdA['orders'],\n",
    "        pd.Series(\n",
    "            0,\n",
    "            index=np.arange(\n",
    "                visitors[visitors['group'] == 'A']['visitors'].sum() - len(UsOrdA['orders'])\n",
    "            ),\n",
    "            name='orders',\n",
    "        ),\n",
    "    ],\n",
    "    axis=0,\n",
    ")\n",
    "\n",
    "PurUsOrdB = orders[orders['group'] == 'B'].groupby('visitorId', as_index = False).agg({'transactionId':'nunique'})\n",
    "PurUsOrdB.columns = ['visitorId','orders']\n",
    "PurUsOrdB = PurUsOrdB[PurUsOrdB['orders'] <= 3]\n",
    "sampleB = pd.concat(\n",
    "    [\n",
    "        PurUsOrdB['orders'],\n",
    "        pd.Series(\n",
    "            0,\n",
    "            index=np.arange(\n",
    "                visitors[visitors['group'] == 'B']['visitors'].sum() - len(UsOrdB['orders'])\n",
    "            ),\n",
    "            name='orders',\n",
    "        ),\n",
    "    ],\n",
    "    axis=0,\n",
    ")\n",
    "\n",
    "print('Статистическая значимость для среднего количества заказов на посетителя = ',stats.mannwhitneyu(sampleA,sampleB)[1])\n",
    "print('Относительное различие = ',(sampleB.mean()/sampleA.mean() - 1))"
   ]
  },
  {
   "cell_type": "markdown",
   "metadata": {},
   "source": [
    "Статистическая значимость осталось низкой, а относительное различие увеличилось до 15%, что подтверждает лучшие результаты группы B."
   ]
  },
  {
   "cell_type": "markdown",
   "metadata": {},
   "source": [
    "#### Статистическая значимость различий в среднем чеке заказа между группами по «очищенным» данным"
   ]
  },
  {
   "cell_type": "markdown",
   "metadata": {},
   "source": [
    "Аналогичную операцию проведем для средних чеков пользователей из групп. Отсекаем заказы стоимостью более 40000."
   ]
  },
  {
   "cell_type": "markdown",
   "metadata": {},
   "source": [
    "Примем за нулевую гипотезу: \"Средний чек заказа между группами A и B по очищенным данным равны\"."
   ]
  },
  {
   "cell_type": "markdown",
   "metadata": {},
   "source": [
    "За альтернативную: \"Средний чек заказа между группами A и B по очищенным данным НЕ равны\"."
   ]
  },
  {
   "cell_type": "markdown",
   "metadata": {},
   "source": [
    "Уровень статистической значимости  alpha = 0.05"
   ]
  },
  {
   "cell_type": "code",
   "execution_count": 23,
   "metadata": {},
   "outputs": [
    {
     "name": "stdout",
     "output_type": "stream",
     "text": [
      "Статистическая значимость для средних чеков заказов =  0.4697386010126885\n",
      "Относительное различие =  0.0775625343345765\n"
     ]
    }
   ],
   "source": [
    "print('Статистическая значимость для средних чеков заказов = ', stats.mannwhitneyu(orders[(orders['group'] == 'A')&(orders['revenue'] <= 40000)]['revenue'],orders[(orders['group'] == 'B')&(orders['revenue'] <= 40000)]['revenue'])[1])\n",
    "print('Относительное различие = ',(orders[(orders['group'] == 'B')&(orders['revenue'] <= 40000)]['revenue'].mean()/orders[(orders['group'] == 'A')&(orders['revenue'] <= 40000)]['revenue'].mean() - 1))"
   ]
  },
  {
   "cell_type": "markdown",
   "metadata": {},
   "source": [
    "P-value показывает, что средние чеков заказов равны. Отрыв группы B по относительному различию снизился до 7%."
   ]
  },
  {
   "cell_type": "markdown",
   "metadata": {},
   "source": [
    "#### Решение по результатам теста"
   ]
  },
  {
   "cell_type": "markdown",
   "metadata": {},
   "source": [
    "Основные выводы из анализа данных:\n",
    "- К концу августа кумулятивные средние чеки изменяются плавно, резкий скачок для группы B произошел из-за аномальных заказов.\n",
    "- Аналогично для кумулятивной выручки: из-за аномалии для группы B наблюдается скачок, который приходится на 18-19 августа. Начиная с 20-го августа кумулятивные выркучки для обеих групп растут плавно и примерно в одинаковом темпе.\n",
    "- График кумулятивного среднего количества заказов на посетителя показывает нам, что группа B лучше группы A на 10-15%.\n",
    "- Оценка статистической значимости методом Манна-Уитни для средних чеков и количества заказов на пользователя показывает, что различий среднего чека между группами нет, а количество заказов на посетителя для группы B в среднем на 15% больше, чем для группы A.\n",
    "\n",
    "**Рекомендация: Остановить тест, зафиксировать победу группы B.**"
   ]
  }
 ],
 "metadata": {
  "ExecuteTimeLog": [
   {
    "duration": 80,
    "start_time": "2022-12-14T13:43:28.213Z"
   },
   {
    "duration": 513,
    "start_time": "2022-12-14T13:45:42.569Z"
   },
   {
    "duration": 79,
    "start_time": "2022-12-14T13:48:17.754Z"
   },
   {
    "duration": 83,
    "start_time": "2022-12-14T13:52:09.090Z"
   },
   {
    "duration": 74,
    "start_time": "2022-12-14T13:52:22.575Z"
   },
   {
    "duration": 602,
    "start_time": "2022-12-14T13:52:28.036Z"
   },
   {
    "duration": 10,
    "start_time": "2022-12-14T13:53:48.408Z"
   },
   {
    "duration": 584,
    "start_time": "2022-12-14T13:54:07.496Z"
   },
   {
    "duration": 19,
    "start_time": "2022-12-14T13:54:18.090Z"
   },
   {
    "duration": 33,
    "start_time": "2022-12-14T13:54:23.779Z"
   },
   {
    "duration": 15,
    "start_time": "2022-12-14T13:55:48.732Z"
   },
   {
    "duration": 13,
    "start_time": "2022-12-14T13:56:04.670Z"
   },
   {
    "duration": 6,
    "start_time": "2022-12-14T13:58:53.519Z"
   },
   {
    "duration": 5,
    "start_time": "2022-12-14T13:59:08.061Z"
   },
   {
    "duration": 168,
    "start_time": "2022-12-14T14:24:49.797Z"
   },
   {
    "duration": 75,
    "start_time": "2022-12-14T14:24:58.707Z"
   },
   {
    "duration": 73,
    "start_time": "2022-12-14T14:25:40.974Z"
   },
   {
    "duration": 70,
    "start_time": "2022-12-14T14:25:57.663Z"
   },
   {
    "duration": 71,
    "start_time": "2022-12-14T14:26:41.134Z"
   },
   {
    "duration": 78,
    "start_time": "2022-12-14T14:26:48.668Z"
   },
   {
    "duration": 72,
    "start_time": "2022-12-14T14:26:51.653Z"
   },
   {
    "duration": 71,
    "start_time": "2022-12-14T14:26:55.852Z"
   },
   {
    "duration": 93,
    "start_time": "2022-12-14T14:38:09.301Z"
   },
   {
    "duration": 100,
    "start_time": "2022-12-14T14:39:32.068Z"
   },
   {
    "duration": 112,
    "start_time": "2022-12-14T14:39:49.684Z"
   },
   {
    "duration": 12,
    "start_time": "2022-12-14T14:40:46.883Z"
   },
   {
    "duration": 24,
    "start_time": "2022-12-14T14:40:54.048Z"
   },
   {
    "duration": 73,
    "start_time": "2022-12-14T17:39:02.743Z"
   },
   {
    "duration": 546,
    "start_time": "2022-12-14T17:39:13.778Z"
   },
   {
    "duration": 17,
    "start_time": "2022-12-14T17:39:14.326Z"
   },
   {
    "duration": 6,
    "start_time": "2022-12-14T17:39:14.345Z"
   },
   {
    "duration": 14,
    "start_time": "2022-12-14T17:39:14.354Z"
   },
   {
    "duration": 174,
    "start_time": "2022-12-14T17:39:14.370Z"
   },
   {
    "duration": 940,
    "start_time": "2022-12-14T17:39:14.546Z"
   },
   {
    "duration": 1046,
    "start_time": "2022-12-14T17:42:23.919Z"
   },
   {
    "duration": 69,
    "start_time": "2022-12-14T17:43:30.768Z"
   },
   {
    "duration": 70,
    "start_time": "2022-12-14T17:43:48.479Z"
   },
   {
    "duration": 73,
    "start_time": "2022-12-14T17:44:02.966Z"
   },
   {
    "duration": 69,
    "start_time": "2022-12-14T17:44:06.510Z"
   },
   {
    "duration": 72,
    "start_time": "2022-12-14T17:44:13.464Z"
   },
   {
    "duration": 910,
    "start_time": "2022-12-14T17:44:34.329Z"
   },
   {
    "duration": 76,
    "start_time": "2022-12-14T17:47:39.977Z"
   },
   {
    "duration": 22,
    "start_time": "2022-12-14T17:47:47.293Z"
   },
   {
    "duration": 36,
    "start_time": "2022-12-14T17:48:03.369Z"
   },
   {
    "duration": 1861,
    "start_time": "2022-12-14T17:48:30.089Z"
   },
   {
    "duration": 854,
    "start_time": "2022-12-14T17:48:51.694Z"
   },
   {
    "duration": 2051,
    "start_time": "2022-12-14T17:53:03.828Z"
   },
   {
    "duration": 15,
    "start_time": "2022-12-14T17:55:18.212Z"
   },
   {
    "duration": 1034,
    "start_time": "2022-12-14T17:55:51.549Z"
   },
   {
    "duration": 118,
    "start_time": "2022-12-14T17:57:45.838Z"
   },
   {
    "duration": 113,
    "start_time": "2022-12-14T17:58:06.658Z"
   },
   {
    "duration": 26,
    "start_time": "2022-12-14T18:05:06.691Z"
   },
   {
    "duration": 21,
    "start_time": "2022-12-14T18:07:48.729Z"
   },
   {
    "duration": 28,
    "start_time": "2022-12-14T18:07:59.262Z"
   },
   {
    "duration": 110,
    "start_time": "2022-12-14T18:08:25.350Z"
   },
   {
    "duration": 8,
    "start_time": "2022-12-14T18:11:13.546Z"
   },
   {
    "duration": 78,
    "start_time": "2022-12-14T18:13:05.665Z"
   },
   {
    "duration": 110,
    "start_time": "2022-12-14T18:13:15.996Z"
   },
   {
    "duration": 102,
    "start_time": "2022-12-14T18:13:35.961Z"
   },
   {
    "duration": 10,
    "start_time": "2022-12-14T18:16:03.844Z"
   },
   {
    "duration": 11,
    "start_time": "2022-12-14T18:16:28.977Z"
   },
   {
    "duration": 112,
    "start_time": "2022-12-14T18:17:31.640Z"
   },
   {
    "duration": 13,
    "start_time": "2022-12-14T18:17:36.279Z"
   },
   {
    "duration": 103,
    "start_time": "2022-12-14T18:18:24.962Z"
   },
   {
    "duration": 10,
    "start_time": "2022-12-14T18:18:27.972Z"
   },
   {
    "duration": 598,
    "start_time": "2022-12-14T18:18:47.854Z"
   },
   {
    "duration": 249,
    "start_time": "2022-12-14T18:20:31.492Z"
   },
   {
    "duration": 236,
    "start_time": "2022-12-14T18:21:14.405Z"
   },
   {
    "duration": 249,
    "start_time": "2022-12-14T18:21:57.917Z"
   },
   {
    "duration": 269,
    "start_time": "2022-12-14T18:22:05.967Z"
   },
   {
    "duration": 183,
    "start_time": "2022-12-14T18:23:39.247Z"
   },
   {
    "duration": 175,
    "start_time": "2022-12-14T18:23:42.302Z"
   },
   {
    "duration": 233,
    "start_time": "2022-12-14T18:23:44.428Z"
   },
   {
    "duration": 4,
    "start_time": "2022-12-14T18:29:50.511Z"
   },
   {
    "duration": 13,
    "start_time": "2022-12-14T18:35:32.973Z"
   },
   {
    "duration": 896,
    "start_time": "2022-12-14T18:48:41.749Z"
   },
   {
    "duration": 74,
    "start_time": "2022-12-14T18:49:59.668Z"
   },
   {
    "duration": 954,
    "start_time": "2022-12-14T18:50:03.265Z"
   },
   {
    "duration": 14,
    "start_time": "2022-12-14T18:50:51.589Z"
   },
   {
    "duration": 912,
    "start_time": "2022-12-14T18:51:32.645Z"
   },
   {
    "duration": 51,
    "start_time": "2022-12-14T18:52:06.932Z"
   },
   {
    "duration": 57,
    "start_time": "2022-12-14T18:52:15.724Z"
   },
   {
    "duration": 75,
    "start_time": "2022-12-14T18:52:47.385Z"
   },
   {
    "duration": 70,
    "start_time": "2022-12-14T18:52:55.594Z"
   },
   {
    "duration": 68,
    "start_time": "2022-12-14T18:53:08.346Z"
   },
   {
    "duration": 64,
    "start_time": "2022-12-14T18:53:15.332Z"
   },
   {
    "duration": 61,
    "start_time": "2022-12-14T18:54:54.998Z"
   },
   {
    "duration": 105,
    "start_time": "2022-12-14T18:57:58.918Z"
   },
   {
    "duration": 114,
    "start_time": "2022-12-14T18:58:52.074Z"
   },
   {
    "duration": 247,
    "start_time": "2022-12-14T19:01:20.422Z"
   },
   {
    "duration": 8,
    "start_time": "2022-12-14T19:18:41.653Z"
   },
   {
    "duration": 85,
    "start_time": "2022-12-14T19:19:02.862Z"
   },
   {
    "duration": 105,
    "start_time": "2022-12-14T19:19:43.180Z"
   },
   {
    "duration": 152,
    "start_time": "2022-12-14T19:20:24.679Z"
   },
   {
    "duration": 157,
    "start_time": "2022-12-14T19:20:35.850Z"
   },
   {
    "duration": 322,
    "start_time": "2022-12-14T19:21:37.616Z"
   },
   {
    "duration": 530,
    "start_time": "2022-12-14T19:23:38.478Z"
   },
   {
    "duration": 263,
    "start_time": "2022-12-14T19:23:47.072Z"
   },
   {
    "duration": 345,
    "start_time": "2022-12-14T19:23:57.377Z"
   },
   {
    "duration": 294,
    "start_time": "2022-12-14T19:24:06.014Z"
   },
   {
    "duration": 294,
    "start_time": "2022-12-14T19:24:28.726Z"
   },
   {
    "duration": 295,
    "start_time": "2022-12-14T19:26:39.183Z"
   },
   {
    "duration": 382,
    "start_time": "2022-12-14T19:29:20.642Z"
   },
   {
    "duration": 377,
    "start_time": "2022-12-14T19:29:40.772Z"
   },
   {
    "duration": 405,
    "start_time": "2022-12-14T19:30:20.100Z"
   },
   {
    "duration": 82,
    "start_time": "2022-12-14T19:30:34.661Z"
   },
   {
    "duration": 396,
    "start_time": "2022-12-14T19:30:36.840Z"
   },
   {
    "duration": 398,
    "start_time": "2022-12-14T19:30:40.764Z"
   },
   {
    "duration": 455,
    "start_time": "2022-12-14T19:30:54.339Z"
   },
   {
    "duration": 392,
    "start_time": "2022-12-14T19:30:59.444Z"
   },
   {
    "duration": 368,
    "start_time": "2022-12-14T19:31:03.851Z"
   },
   {
    "duration": 14,
    "start_time": "2022-12-14T19:45:23.162Z"
   },
   {
    "duration": 13,
    "start_time": "2022-12-14T19:45:25.118Z"
   },
   {
    "duration": 13,
    "start_time": "2022-12-14T19:45:56.441Z"
   },
   {
    "duration": 11,
    "start_time": "2022-12-14T19:46:02.317Z"
   },
   {
    "duration": 14,
    "start_time": "2022-12-14T19:50:17.733Z"
   },
   {
    "duration": 19,
    "start_time": "2022-12-14T19:51:28.677Z"
   },
   {
    "duration": 18,
    "start_time": "2022-12-14T19:52:08.420Z"
   },
   {
    "duration": 20,
    "start_time": "2022-12-14T19:53:09.566Z"
   },
   {
    "duration": 92,
    "start_time": "2022-12-14T19:53:42.849Z"
   },
   {
    "duration": 17,
    "start_time": "2022-12-14T19:55:37.280Z"
   },
   {
    "duration": 13,
    "start_time": "2022-12-14T19:56:40.280Z"
   },
   {
    "duration": 16,
    "start_time": "2022-12-14T19:56:57.491Z"
   },
   {
    "duration": 89,
    "start_time": "2022-12-14T19:58:26.769Z"
   },
   {
    "duration": 84,
    "start_time": "2022-12-14T19:58:49.328Z"
   },
   {
    "duration": 87,
    "start_time": "2022-12-14T19:59:13.918Z"
   },
   {
    "duration": 13,
    "start_time": "2022-12-14T19:59:27.870Z"
   },
   {
    "duration": 18,
    "start_time": "2022-12-14T19:59:45.718Z"
   },
   {
    "duration": 21,
    "start_time": "2022-12-14T20:07:21.806Z"
   },
   {
    "duration": 72,
    "start_time": "2022-12-14T20:09:38.315Z"
   },
   {
    "duration": 12,
    "start_time": "2022-12-14T20:09:42.367Z"
   },
   {
    "duration": 37,
    "start_time": "2022-12-14T20:13:39.906Z"
   },
   {
    "duration": 71,
    "start_time": "2022-12-14T20:14:13.323Z"
   },
   {
    "duration": 33,
    "start_time": "2022-12-14T20:14:26.178Z"
   },
   {
    "duration": 123,
    "start_time": "2022-12-14T20:16:17.461Z"
   },
   {
    "duration": 207,
    "start_time": "2022-12-14T20:17:36.836Z"
   },
   {
    "duration": 1396,
    "start_time": "2022-12-14T20:17:55.385Z"
   },
   {
    "duration": 183,
    "start_time": "2022-12-14T20:17:59.540Z"
   },
   {
    "duration": 180,
    "start_time": "2022-12-14T20:25:08.718Z"
   },
   {
    "duration": 254,
    "start_time": "2022-12-14T20:25:31.295Z"
   },
   {
    "duration": 32,
    "start_time": "2022-12-14T20:25:40.158Z"
   },
   {
    "duration": 228,
    "start_time": "2022-12-14T20:25:59.154Z"
   },
   {
    "duration": 229,
    "start_time": "2022-12-14T20:32:21.763Z"
   },
   {
    "duration": 247,
    "start_time": "2022-12-14T20:34:12.676Z"
   },
   {
    "duration": 257,
    "start_time": "2022-12-14T20:34:22.712Z"
   },
   {
    "duration": 291,
    "start_time": "2022-12-14T20:34:47.437Z"
   },
   {
    "duration": 246,
    "start_time": "2022-12-14T20:34:58.818Z"
   },
   {
    "duration": 283,
    "start_time": "2022-12-14T20:35:11.963Z"
   },
   {
    "duration": 206,
    "start_time": "2022-12-14T20:35:26.258Z"
   },
   {
    "duration": 267,
    "start_time": "2022-12-14T20:35:34.217Z"
   },
   {
    "duration": 250,
    "start_time": "2022-12-14T20:36:16.330Z"
   },
   {
    "duration": 75,
    "start_time": "2022-12-15T19:41:40.448Z"
   },
   {
    "duration": 521,
    "start_time": "2022-12-15T19:41:49.180Z"
   },
   {
    "duration": 18,
    "start_time": "2022-12-15T19:41:49.703Z"
   },
   {
    "duration": 7,
    "start_time": "2022-12-15T19:41:49.722Z"
   },
   {
    "duration": 9,
    "start_time": "2022-12-15T19:41:49.730Z"
   },
   {
    "duration": 184,
    "start_time": "2022-12-15T19:41:49.741Z"
   },
   {
    "duration": 136,
    "start_time": "2022-12-15T19:41:49.927Z"
   },
   {
    "duration": 728,
    "start_time": "2022-12-15T19:41:50.065Z"
   },
   {
    "duration": 150,
    "start_time": "2022-12-15T19:41:50.796Z"
   },
   {
    "duration": 224,
    "start_time": "2022-12-15T19:41:50.948Z"
   },
   {
    "duration": 567,
    "start_time": "2022-12-15T19:41:51.174Z"
   },
   {
    "duration": 274,
    "start_time": "2022-12-15T19:41:51.743Z"
   },
   {
    "duration": 228,
    "start_time": "2022-12-15T19:41:52.019Z"
   },
   {
    "duration": 213,
    "start_time": "2022-12-15T19:42:24.539Z"
   },
   {
    "duration": 215,
    "start_time": "2022-12-15T19:43:53.940Z"
   },
   {
    "duration": 166,
    "start_time": "2022-12-15T19:44:11.128Z"
   },
   {
    "duration": 323,
    "start_time": "2022-12-15T19:44:27.840Z"
   },
   {
    "duration": 3,
    "start_time": "2022-12-15T19:46:37.845Z"
   },
   {
    "duration": 2,
    "start_time": "2022-12-15T19:46:39.881Z"
   },
   {
    "duration": 8,
    "start_time": "2022-12-15T20:02:10.045Z"
   },
   {
    "duration": 162,
    "start_time": "2022-12-15T20:02:43.755Z"
   },
   {
    "duration": 285,
    "start_time": "2022-12-15T20:17:10.733Z"
   },
   {
    "duration": 459,
    "start_time": "2022-12-15T20:22:19.234Z"
   },
   {
    "duration": 281,
    "start_time": "2022-12-15T20:23:22.161Z"
   },
   {
    "duration": 202,
    "start_time": "2022-12-15T20:23:42.008Z"
   },
   {
    "duration": 182,
    "start_time": "2022-12-15T20:23:46.507Z"
   },
   {
    "duration": 158,
    "start_time": "2022-12-15T20:24:44.516Z"
   },
   {
    "duration": 11,
    "start_time": "2022-12-15T20:37:44.654Z"
   },
   {
    "duration": 12,
    "start_time": "2022-12-15T20:37:54.810Z"
   },
   {
    "duration": 443,
    "start_time": "2022-12-15T20:39:04.422Z"
   },
   {
    "duration": 13,
    "start_time": "2022-12-15T20:39:04.867Z"
   },
   {
    "duration": 5,
    "start_time": "2022-12-15T20:39:04.882Z"
   },
   {
    "duration": 8,
    "start_time": "2022-12-15T20:39:04.890Z"
   },
   {
    "duration": 90,
    "start_time": "2022-12-15T20:39:04.900Z"
   },
   {
    "duration": 114,
    "start_time": "2022-12-15T20:39:04.992Z"
   },
   {
    "duration": 450,
    "start_time": "2022-12-15T20:39:05.108Z"
   },
   {
    "duration": 115,
    "start_time": "2022-12-15T20:39:05.560Z"
   },
   {
    "duration": 217,
    "start_time": "2022-12-15T20:39:05.676Z"
   },
   {
    "duration": 532,
    "start_time": "2022-12-15T20:39:05.896Z"
   },
   {
    "duration": 267,
    "start_time": "2022-12-15T20:39:06.430Z"
   },
   {
    "duration": 350,
    "start_time": "2022-12-15T20:39:06.699Z"
   },
   {
    "duration": 225,
    "start_time": "2022-12-15T20:39:07.051Z"
   },
   {
    "duration": 220,
    "start_time": "2022-12-15T20:39:07.278Z"
   },
   {
    "duration": 93,
    "start_time": "2022-12-15T20:39:07.500Z"
   },
   {
    "duration": 11,
    "start_time": "2022-12-15T20:39:12.541Z"
   },
   {
    "duration": 12,
    "start_time": "2022-12-15T20:42:59.023Z"
   },
   {
    "duration": 138,
    "start_time": "2022-12-15T20:45:11.666Z"
   },
   {
    "duration": 1112,
    "start_time": "2022-12-15T20:45:24.516Z"
   },
   {
    "duration": 111,
    "start_time": "2022-12-15T20:45:42.586Z"
   },
   {
    "duration": 7,
    "start_time": "2022-12-15T20:53:27.202Z"
   },
   {
    "duration": 73,
    "start_time": "2022-12-15T21:04:30.189Z"
   },
   {
    "duration": 69,
    "start_time": "2022-12-15T21:04:41.546Z"
   },
   {
    "duration": 6,
    "start_time": "2022-12-15T21:04:46.402Z"
   },
   {
    "duration": 124,
    "start_time": "2022-12-15T21:09:04.624Z"
   },
   {
    "duration": 136,
    "start_time": "2022-12-15T21:09:30.986Z"
   },
   {
    "duration": 139,
    "start_time": "2022-12-15T21:09:45.175Z"
   },
   {
    "duration": 156,
    "start_time": "2022-12-15T21:09:48.362Z"
   },
   {
    "duration": 203,
    "start_time": "2022-12-15T21:13:12.414Z"
   },
   {
    "duration": 5,
    "start_time": "2022-12-15T21:17:48.430Z"
   },
   {
    "duration": 4,
    "start_time": "2022-12-15T21:19:05.371Z"
   },
   {
    "duration": 4,
    "start_time": "2022-12-15T21:19:07.785Z"
   },
   {
    "duration": 4,
    "start_time": "2022-12-15T21:19:11.007Z"
   },
   {
    "duration": 4,
    "start_time": "2022-12-15T21:19:15.700Z"
   },
   {
    "duration": 4,
    "start_time": "2022-12-15T21:19:22.782Z"
   },
   {
    "duration": 4,
    "start_time": "2022-12-15T21:19:31.023Z"
   },
   {
    "duration": 394,
    "start_time": "2022-12-15T21:46:39.120Z"
   },
   {
    "duration": 6,
    "start_time": "2022-12-15T21:50:02.863Z"
   },
   {
    "duration": 7,
    "start_time": "2022-12-15T21:50:14.781Z"
   },
   {
    "duration": 8,
    "start_time": "2022-12-15T21:52:03.977Z"
   },
   {
    "duration": 6,
    "start_time": "2022-12-15T21:52:09.263Z"
   },
   {
    "duration": 71,
    "start_time": "2022-12-15T21:53:54.352Z"
   },
   {
    "duration": 1134,
    "start_time": "2022-12-15T21:57:39.132Z"
   },
   {
    "duration": 1075,
    "start_time": "2022-12-15T21:58:13.693Z"
   },
   {
    "duration": 1193,
    "start_time": "2022-12-15T21:59:09.375Z"
   },
   {
    "duration": 4,
    "start_time": "2022-12-15T22:02:27.262Z"
   },
   {
    "duration": 1152,
    "start_time": "2022-12-15T22:02:57.117Z"
   },
   {
    "duration": 11,
    "start_time": "2022-12-15T22:05:29.445Z"
   },
   {
    "duration": 4,
    "start_time": "2022-12-15T22:07:31.341Z"
   },
   {
    "duration": 4,
    "start_time": "2022-12-15T22:07:40.024Z"
   },
   {
    "duration": 4,
    "start_time": "2022-12-15T22:07:51.214Z"
   },
   {
    "duration": 5,
    "start_time": "2022-12-15T22:07:59.652Z"
   },
   {
    "duration": 619,
    "start_time": "2022-12-15T22:08:02.061Z"
   },
   {
    "duration": 32,
    "start_time": "2022-12-15T22:08:31.861Z"
   },
   {
    "duration": 11,
    "start_time": "2022-12-15T22:08:31.895Z"
   },
   {
    "duration": 16,
    "start_time": "2022-12-15T22:08:31.908Z"
   },
   {
    "duration": 10,
    "start_time": "2022-12-15T22:08:31.925Z"
   },
   {
    "duration": 129,
    "start_time": "2022-12-15T22:08:31.938Z"
   },
   {
    "duration": 101,
    "start_time": "2022-12-15T22:08:32.069Z"
   },
   {
    "duration": 221,
    "start_time": "2022-12-15T22:08:32.172Z"
   },
   {
    "duration": 115,
    "start_time": "2022-12-15T22:08:32.395Z"
   },
   {
    "duration": 210,
    "start_time": "2022-12-15T22:08:32.512Z"
   },
   {
    "duration": 404,
    "start_time": "2022-12-15T22:08:32.725Z"
   },
   {
    "duration": 310,
    "start_time": "2022-12-15T22:08:33.131Z"
   },
   {
    "duration": 301,
    "start_time": "2022-12-15T22:08:33.444Z"
   },
   {
    "duration": 202,
    "start_time": "2022-12-15T22:08:33.747Z"
   },
   {
    "duration": 167,
    "start_time": "2022-12-15T22:08:33.951Z"
   },
   {
    "duration": 122,
    "start_time": "2022-12-15T22:08:34.120Z"
   },
   {
    "duration": 6,
    "start_time": "2022-12-15T22:08:34.243Z"
   },
   {
    "duration": 127,
    "start_time": "2022-12-15T22:08:34.251Z"
   },
   {
    "duration": 126,
    "start_time": "2022-12-15T22:08:34.379Z"
   },
   {
    "duration": 5,
    "start_time": "2022-12-15T22:08:34.506Z"
   },
   {
    "duration": 9,
    "start_time": "2022-12-15T22:08:34.512Z"
   },
   {
    "duration": 12,
    "start_time": "2022-12-15T22:08:58.157Z"
   },
   {
    "duration": 11,
    "start_time": "2022-12-15T22:09:06.404Z"
   },
   {
    "duration": 616,
    "start_time": "2022-12-16T13:52:22.466Z"
   },
   {
    "duration": 446,
    "start_time": "2022-12-16T13:52:34.088Z"
   },
   {
    "duration": 14,
    "start_time": "2022-12-16T13:52:34.536Z"
   },
   {
    "duration": 5,
    "start_time": "2022-12-16T13:52:34.551Z"
   },
   {
    "duration": 7,
    "start_time": "2022-12-16T13:52:34.557Z"
   },
   {
    "duration": 184,
    "start_time": "2022-12-16T13:52:34.566Z"
   },
   {
    "duration": 101,
    "start_time": "2022-12-16T13:52:34.751Z"
   },
   {
    "duration": 565,
    "start_time": "2022-12-16T13:52:34.854Z"
   },
   {
    "duration": 131,
    "start_time": "2022-12-16T13:52:35.427Z"
   },
   {
    "duration": 227,
    "start_time": "2022-12-16T13:52:35.559Z"
   },
   {
    "duration": 553,
    "start_time": "2022-12-16T13:52:35.788Z"
   },
   {
    "duration": 267,
    "start_time": "2022-12-16T13:52:36.342Z"
   },
   {
    "duration": 344,
    "start_time": "2022-12-16T13:52:36.611Z"
   },
   {
    "duration": 226,
    "start_time": "2022-12-16T13:52:36.957Z"
   },
   {
    "duration": 155,
    "start_time": "2022-12-16T13:52:37.186Z"
   },
   {
    "duration": 108,
    "start_time": "2022-12-16T13:52:37.342Z"
   },
   {
    "duration": 6,
    "start_time": "2022-12-16T13:52:37.451Z"
   },
   {
    "duration": 118,
    "start_time": "2022-12-16T13:52:37.458Z"
   },
   {
    "duration": 110,
    "start_time": "2022-12-16T13:52:37.578Z"
   },
   {
    "duration": 4,
    "start_time": "2022-12-16T13:52:37.689Z"
   },
   {
    "duration": 507,
    "start_time": "2022-12-16T13:52:37.694Z"
   },
   {
    "duration": 57,
    "start_time": "2022-12-16T13:52:51.808Z"
   },
   {
    "duration": 17,
    "start_time": "2022-12-16T13:54:30.381Z"
   },
   {
    "duration": 16,
    "start_time": "2022-12-16T13:54:46.748Z"
   },
   {
    "duration": 17,
    "start_time": "2022-12-16T13:55:03.998Z"
   },
   {
    "duration": 17,
    "start_time": "2022-12-16T13:55:40.068Z"
   },
   {
    "duration": 15,
    "start_time": "2022-12-16T13:56:06.962Z"
   },
   {
    "duration": 13,
    "start_time": "2022-12-16T13:57:10.942Z"
   },
   {
    "duration": 16,
    "start_time": "2022-12-16T14:06:33.229Z"
   },
   {
    "duration": 15,
    "start_time": "2022-12-16T14:06:50.669Z"
   },
   {
    "duration": 15,
    "start_time": "2022-12-16T14:11:45.940Z"
   },
   {
    "duration": 14,
    "start_time": "2022-12-16T14:16:19.284Z"
   },
   {
    "duration": 13,
    "start_time": "2022-12-16T14:16:30.204Z"
   },
   {
    "duration": 235,
    "start_time": "2022-12-16T14:19:48.153Z"
   },
   {
    "duration": 186,
    "start_time": "2022-12-16T14:20:00.862Z"
   },
   {
    "duration": 95,
    "start_time": "2022-12-16T14:34:33.470Z"
   },
   {
    "duration": 11,
    "start_time": "2022-12-16T14:34:44.479Z"
   },
   {
    "duration": 42,
    "start_time": "2022-12-17T21:20:31.805Z"
   },
   {
    "duration": 472,
    "start_time": "2022-12-17T21:20:36.553Z"
   },
   {
    "duration": 12,
    "start_time": "2022-12-17T21:20:37.027Z"
   },
   {
    "duration": 4,
    "start_time": "2022-12-17T21:20:37.041Z"
   },
   {
    "duration": 8,
    "start_time": "2022-12-17T21:20:37.047Z"
   },
   {
    "duration": 181,
    "start_time": "2022-12-17T21:20:37.056Z"
   },
   {
    "duration": 91,
    "start_time": "2022-12-17T21:20:37.238Z"
   },
   {
    "duration": 583,
    "start_time": "2022-12-17T21:20:37.330Z"
   },
   {
    "duration": 108,
    "start_time": "2022-12-17T21:20:37.915Z"
   },
   {
    "duration": 202,
    "start_time": "2022-12-17T21:20:38.025Z"
   },
   {
    "duration": 569,
    "start_time": "2022-12-17T21:20:38.229Z"
   },
   {
    "duration": 296,
    "start_time": "2022-12-17T21:20:38.799Z"
   },
   {
    "duration": 5,
    "start_time": "2022-12-17T21:20:39.096Z"
   },
   {
    "duration": 284,
    "start_time": "2022-12-17T21:20:39.103Z"
   },
   {
    "duration": 201,
    "start_time": "2022-12-17T21:20:39.388Z"
   },
   {
    "duration": 167,
    "start_time": "2022-12-17T21:20:39.590Z"
   },
   {
    "duration": 109,
    "start_time": "2022-12-17T21:20:39.759Z"
   },
   {
    "duration": 7,
    "start_time": "2022-12-17T21:20:39.869Z"
   },
   {
    "duration": 125,
    "start_time": "2022-12-17T21:20:39.877Z"
   },
   {
    "duration": 118,
    "start_time": "2022-12-17T21:20:40.004Z"
   },
   {
    "duration": 3,
    "start_time": "2022-12-17T21:20:40.124Z"
   },
   {
    "duration": 472,
    "start_time": "2022-12-17T21:20:40.129Z"
   },
   {
    "duration": 9,
    "start_time": "2022-12-17T21:20:40.603Z"
   },
   {
    "duration": 14,
    "start_time": "2022-12-17T21:20:40.614Z"
   },
   {
    "duration": 29,
    "start_time": "2022-12-17T21:20:40.630Z"
   },
   {
    "duration": 9,
    "start_time": "2022-12-17T21:22:24.344Z"
   },
   {
    "duration": 15,
    "start_time": "2022-12-17T21:22:47.966Z"
   },
   {
    "duration": 9,
    "start_time": "2022-12-17T21:28:56.295Z"
   },
   {
    "duration": 8,
    "start_time": "2022-12-17T21:29:09.815Z"
   },
   {
    "duration": 6,
    "start_time": "2022-12-17T21:35:45.605Z"
   },
   {
    "duration": 7,
    "start_time": "2022-12-17T21:36:00.411Z"
   },
   {
    "duration": 88,
    "start_time": "2022-12-17T21:37:18.580Z"
   },
   {
    "duration": 8,
    "start_time": "2022-12-17T21:38:24.246Z"
   },
   {
    "duration": 550,
    "start_time": "2022-12-18T10:20:26.714Z"
   },
   {
    "duration": 35,
    "start_time": "2022-12-18T10:21:13.075Z"
   },
   {
    "duration": 73,
    "start_time": "2022-12-18T10:22:21.213Z"
   },
   {
    "duration": 453,
    "start_time": "2022-12-18T10:22:40.963Z"
   },
   {
    "duration": 15,
    "start_time": "2022-12-18T10:22:41.418Z"
   },
   {
    "duration": 6,
    "start_time": "2022-12-18T10:22:41.434Z"
   },
   {
    "duration": 11,
    "start_time": "2022-12-18T10:22:41.442Z"
   },
   {
    "duration": 190,
    "start_time": "2022-12-18T10:22:41.456Z"
   },
   {
    "duration": 109,
    "start_time": "2022-12-18T10:22:41.649Z"
   },
   {
    "duration": 666,
    "start_time": "2022-12-18T10:22:41.760Z"
   },
   {
    "duration": 124,
    "start_time": "2022-12-18T10:22:42.427Z"
   },
   {
    "duration": 225,
    "start_time": "2022-12-18T10:22:42.553Z"
   },
   {
    "duration": 607,
    "start_time": "2022-12-18T10:22:42.780Z"
   },
   {
    "duration": 303,
    "start_time": "2022-12-18T10:22:43.389Z"
   },
   {
    "duration": 333,
    "start_time": "2022-12-18T10:22:43.695Z"
   },
   {
    "duration": 249,
    "start_time": "2022-12-18T10:22:44.030Z"
   },
   {
    "duration": 200,
    "start_time": "2022-12-18T10:22:44.282Z"
   },
   {
    "duration": 127,
    "start_time": "2022-12-18T10:22:44.484Z"
   },
   {
    "duration": 7,
    "start_time": "2022-12-18T10:22:44.613Z"
   },
   {
    "duration": 144,
    "start_time": "2022-12-18T10:22:44.622Z"
   },
   {
    "duration": 138,
    "start_time": "2022-12-18T10:22:44.768Z"
   },
   {
    "duration": 6,
    "start_time": "2022-12-18T10:22:44.908Z"
   },
   {
    "duration": 548,
    "start_time": "2022-12-18T10:22:44.916Z"
   },
   {
    "duration": 11,
    "start_time": "2022-12-18T10:22:45.466Z"
   },
   {
    "duration": 29,
    "start_time": "2022-12-18T10:22:45.479Z"
   },
   {
    "duration": 18,
    "start_time": "2022-12-18T10:22:45.510Z"
   },
   {
    "duration": 10,
    "start_time": "2022-12-18T10:23:26.663Z"
   },
   {
    "duration": 5,
    "start_time": "2022-12-18T10:30:22.078Z"
   },
   {
    "duration": 8,
    "start_time": "2022-12-18T10:30:58.206Z"
   },
   {
    "duration": 7,
    "start_time": "2022-12-18T10:31:13.886Z"
   },
   {
    "duration": 5,
    "start_time": "2022-12-18T10:33:35.935Z"
   },
   {
    "duration": 68,
    "start_time": "2022-12-18T10:48:15.034Z"
   },
   {
    "duration": 218,
    "start_time": "2022-12-18T10:48:23.724Z"
   },
   {
    "duration": 1206,
    "start_time": "2022-12-18T10:48:51.192Z"
   },
   {
    "duration": 159,
    "start_time": "2022-12-18T10:49:04.517Z"
   },
   {
    "duration": 161,
    "start_time": "2022-12-18T10:49:08.601Z"
   },
   {
    "duration": 190,
    "start_time": "2022-12-18T10:49:15.749Z"
   },
   {
    "duration": 165,
    "start_time": "2022-12-18T10:49:25.881Z"
   },
   {
    "duration": 237,
    "start_time": "2022-12-18T10:50:17.150Z"
   },
   {
    "duration": 243,
    "start_time": "2022-12-18T10:51:26.636Z"
   },
   {
    "duration": 318,
    "start_time": "2022-12-18T10:51:56.609Z"
   },
   {
    "duration": 1092,
    "start_time": "2022-12-18T10:53:33.096Z"
   },
   {
    "duration": 1146,
    "start_time": "2022-12-18T10:54:14.810Z"
   },
   {
    "duration": 251,
    "start_time": "2022-12-18T10:56:16.471Z"
   },
   {
    "duration": 875,
    "start_time": "2022-12-18T11:03:15.580Z"
   },
   {
    "duration": 308,
    "start_time": "2022-12-18T11:06:24.820Z"
   },
   {
    "duration": 372,
    "start_time": "2022-12-18T11:09:55.435Z"
   },
   {
    "duration": 76,
    "start_time": "2022-12-18T11:12:40.811Z"
   },
   {
    "duration": 153,
    "start_time": "2022-12-18T11:12:53.961Z"
   },
   {
    "duration": 149,
    "start_time": "2022-12-18T11:13:04.849Z"
   },
   {
    "duration": 153,
    "start_time": "2022-12-18T11:13:14.937Z"
   },
   {
    "duration": 156,
    "start_time": "2022-12-18T11:14:12.819Z"
   },
   {
    "duration": 176,
    "start_time": "2022-12-18T11:14:19.090Z"
   },
   {
    "duration": 172,
    "start_time": "2022-12-18T11:15:09.918Z"
   },
   {
    "duration": 176,
    "start_time": "2022-12-18T11:15:21.322Z"
   },
   {
    "duration": 166,
    "start_time": "2022-12-18T11:15:24.177Z"
   },
   {
    "duration": 164,
    "start_time": "2022-12-18T11:16:52.745Z"
   },
   {
    "duration": 274,
    "start_time": "2022-12-18T11:17:40.481Z"
   },
   {
    "duration": 312,
    "start_time": "2022-12-18T11:18:13.085Z"
   },
   {
    "duration": 404,
    "start_time": "2022-12-18T11:18:36.387Z"
   },
   {
    "duration": 452,
    "start_time": "2022-12-18T11:18:48.130Z"
   },
   {
    "duration": 1509,
    "start_time": "2022-12-18T12:49:22.228Z"
   },
   {
    "duration": 1459,
    "start_time": "2022-12-18T12:51:07.564Z"
   },
   {
    "duration": 38,
    "start_time": "2022-12-18T12:51:16.065Z"
   },
   {
    "duration": 61,
    "start_time": "2022-12-18T12:57:01.743Z"
   },
   {
    "duration": 53,
    "start_time": "2022-12-18T12:57:19.025Z"
   },
   {
    "duration": 7,
    "start_time": "2022-12-18T12:57:47.139Z"
   },
   {
    "duration": 38,
    "start_time": "2022-12-18T12:58:01.046Z"
   },
   {
    "duration": 51,
    "start_time": "2022-12-18T12:58:49.639Z"
   },
   {
    "duration": 50,
    "start_time": "2022-12-19T19:48:44.899Z"
   },
   {
    "duration": 444,
    "start_time": "2022-12-19T19:48:53.429Z"
   },
   {
    "duration": 20,
    "start_time": "2022-12-19T19:48:53.876Z"
   },
   {
    "duration": 11,
    "start_time": "2022-12-19T19:48:53.898Z"
   },
   {
    "duration": 14,
    "start_time": "2022-12-19T19:48:53.911Z"
   },
   {
    "duration": 169,
    "start_time": "2022-12-19T19:48:53.928Z"
   },
   {
    "duration": 8,
    "start_time": "2022-12-19T19:48:54.099Z"
   },
   {
    "duration": 5,
    "start_time": "2022-12-19T19:48:54.110Z"
   },
   {
    "duration": 139,
    "start_time": "2022-12-19T19:48:54.118Z"
   },
   {
    "duration": 752,
    "start_time": "2022-12-19T19:48:54.259Z"
   },
   {
    "duration": 139,
    "start_time": "2022-12-19T19:48:55.013Z"
   },
   {
    "duration": 259,
    "start_time": "2022-12-19T19:48:55.154Z"
   },
   {
    "duration": 488,
    "start_time": "2022-12-19T19:48:55.415Z"
   },
   {
    "duration": 427,
    "start_time": "2022-12-19T19:48:55.905Z"
   },
   {
    "duration": 338,
    "start_time": "2022-12-19T19:48:56.335Z"
   },
   {
    "duration": 186,
    "start_time": "2022-12-19T19:48:56.677Z"
   },
   {
    "duration": 12,
    "start_time": "2022-12-19T19:48:56.865Z"
   },
   {
    "duration": 347,
    "start_time": "2022-12-19T19:48:56.879Z"
   },
   {
    "duration": 138,
    "start_time": "2022-12-19T19:48:57.228Z"
   },
   {
    "duration": 10,
    "start_time": "2022-12-19T19:48:57.368Z"
   },
   {
    "duration": 445,
    "start_time": "2022-12-19T19:48:57.380Z"
   },
   {
    "duration": 12,
    "start_time": "2022-12-19T19:48:57.827Z"
   },
   {
    "duration": 62,
    "start_time": "2022-12-19T19:48:57.842Z"
   },
   {
    "duration": 12,
    "start_time": "2022-12-19T19:48:57.906Z"
   },
   {
    "duration": 301,
    "start_time": "2022-12-19T19:49:08.497Z"
   },
   {
    "duration": 191,
    "start_time": "2022-12-19T19:49:23.343Z"
   },
   {
    "duration": 33,
    "start_time": "2022-12-19T19:57:32.531Z"
   },
   {
    "duration": 12,
    "start_time": "2022-12-19T19:57:32.566Z"
   },
   {
    "duration": 18,
    "start_time": "2022-12-19T19:57:32.579Z"
   },
   {
    "duration": 15,
    "start_time": "2022-12-19T19:57:32.599Z"
   },
   {
    "duration": 81,
    "start_time": "2022-12-19T19:57:32.615Z"
   },
   {
    "duration": 6,
    "start_time": "2022-12-19T19:57:32.698Z"
   },
   {
    "duration": 16,
    "start_time": "2022-12-19T19:57:32.706Z"
   },
   {
    "duration": 131,
    "start_time": "2022-12-19T19:57:32.723Z"
   },
   {
    "duration": 249,
    "start_time": "2022-12-19T19:57:32.855Z"
   },
   {
    "duration": 128,
    "start_time": "2022-12-19T19:57:33.107Z"
   },
   {
    "duration": 246,
    "start_time": "2022-12-19T19:57:33.237Z"
   },
   {
    "duration": 451,
    "start_time": "2022-12-19T19:57:33.485Z"
   },
   {
    "duration": 322,
    "start_time": "2022-12-19T19:57:33.938Z"
   },
   {
    "duration": 361,
    "start_time": "2022-12-19T19:57:34.262Z"
   },
   {
    "duration": 182,
    "start_time": "2022-12-19T19:57:34.625Z"
   },
   {
    "duration": 8,
    "start_time": "2022-12-19T19:57:34.808Z"
   },
   {
    "duration": 206,
    "start_time": "2022-12-19T19:57:34.818Z"
   },
   {
    "duration": 205,
    "start_time": "2022-12-19T19:57:35.026Z"
   },
   {
    "duration": 5,
    "start_time": "2022-12-19T19:57:35.233Z"
   },
   {
    "duration": 57,
    "start_time": "2022-12-19T19:57:35.240Z"
   },
   {
    "duration": 12,
    "start_time": "2022-12-19T19:57:35.299Z"
   },
   {
    "duration": 37,
    "start_time": "2022-12-19T19:57:35.313Z"
   },
   {
    "duration": 38,
    "start_time": "2022-12-19T19:57:35.352Z"
   }
  ],
  "kernelspec": {
   "display_name": "Python 3 (ipykernel)",
   "language": "python",
   "name": "python3"
  },
  "language_info": {
   "codemirror_mode": {
    "name": "ipython",
    "version": 3
   },
   "file_extension": ".py",
   "mimetype": "text/x-python",
   "name": "python",
   "nbconvert_exporter": "python",
   "pygments_lexer": "ipython3",
   "version": "3.9.12"
  },
  "toc": {
   "base_numbering": 1,
   "nav_menu": {},
   "number_sections": true,
   "sideBar": true,
   "skip_h1_title": true,
   "title_cell": "Table of Contents",
   "title_sidebar": "Contents",
   "toc_cell": false,
   "toc_position": {},
   "toc_section_display": true,
   "toc_window_display": false
  }
 },
 "nbformat": 4,
 "nbformat_minor": 2
}
